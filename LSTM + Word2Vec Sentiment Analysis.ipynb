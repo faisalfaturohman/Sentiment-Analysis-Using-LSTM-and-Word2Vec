{
 "cells": [
  {
   "cell_type": "code",
   "execution_count": 1,
   "metadata": {},
   "outputs": [
    {
     "name": "stderr",
     "output_type": "stream",
     "text": [
      "c:\\users\\legion\\appdata\\local\\programs\\python\\python36\\lib\\site-packages\\tensorflow\\python\\framework\\dtypes.py:523: FutureWarning: Passing (type, 1) or '1type' as a synonym of type is deprecated; in a future version of numpy, it will be understood as (type, (1,)) / '(1,)type'.\n",
      "  _np_qint8 = np.dtype([(\"qint8\", np.int8, 1)])\n",
      "c:\\users\\legion\\appdata\\local\\programs\\python\\python36\\lib\\site-packages\\tensorflow\\python\\framework\\dtypes.py:524: FutureWarning: Passing (type, 1) or '1type' as a synonym of type is deprecated; in a future version of numpy, it will be understood as (type, (1,)) / '(1,)type'.\n",
      "  _np_quint8 = np.dtype([(\"quint8\", np.uint8, 1)])\n",
      "c:\\users\\legion\\appdata\\local\\programs\\python\\python36\\lib\\site-packages\\tensorflow\\python\\framework\\dtypes.py:525: FutureWarning: Passing (type, 1) or '1type' as a synonym of type is deprecated; in a future version of numpy, it will be understood as (type, (1,)) / '(1,)type'.\n",
      "  _np_qint16 = np.dtype([(\"qint16\", np.int16, 1)])\n",
      "c:\\users\\legion\\appdata\\local\\programs\\python\\python36\\lib\\site-packages\\tensorflow\\python\\framework\\dtypes.py:526: FutureWarning: Passing (type, 1) or '1type' as a synonym of type is deprecated; in a future version of numpy, it will be understood as (type, (1,)) / '(1,)type'.\n",
      "  _np_quint16 = np.dtype([(\"quint16\", np.uint16, 1)])\n",
      "c:\\users\\legion\\appdata\\local\\programs\\python\\python36\\lib\\site-packages\\tensorflow\\python\\framework\\dtypes.py:527: FutureWarning: Passing (type, 1) or '1type' as a synonym of type is deprecated; in a future version of numpy, it will be understood as (type, (1,)) / '(1,)type'.\n",
      "  _np_qint32 = np.dtype([(\"qint32\", np.int32, 1)])\n",
      "c:\\users\\legion\\appdata\\local\\programs\\python\\python36\\lib\\site-packages\\tensorflow\\python\\framework\\dtypes.py:532: FutureWarning: Passing (type, 1) or '1type' as a synonym of type is deprecated; in a future version of numpy, it will be understood as (type, (1,)) / '(1,)type'.\n",
      "  np_resource = np.dtype([(\"resource\", np.ubyte, 1)])\n",
      "Using TensorFlow backend.\n"
     ]
    }
   ],
   "source": [
    "#import library\n",
    "import pandas as pd\n",
    "import numpy as np\n",
    "import re\n",
    "import string\n",
    "\n",
    "from tensorflow.keras.preprocessing.text import Tokenizer\n",
    "from tensorflow.keras.preprocessing.sequence import pad_sequences\n",
    "from tensorflow.keras.models import Sequential\n",
    "from tensorflow.keras.layers import Dense, Embedding, LSTM, SpatialDropout1D\n",
    "from keras.utils.np_utils import to_categorical\n",
    "from tensorflow.keras.optimizers import Adam\n",
    "import gensim \n",
    "from sklearn.model_selection import train_test_split\n",
    "from sklearn.metrics import confusion_matrix,classification_report\n",
    "from nltk.corpus import stopwords\n",
    "import matplotlib.pyplot as plt"
   ]
  },
  {
   "cell_type": "markdown",
   "metadata": {},
   "source": [
    "# Proses Text"
   ]
  },
  {
   "cell_type": "code",
   "execution_count": 2,
   "metadata": {},
   "outputs": [
    {
     "data": {
      "text/html": [
       "<div>\n",
       "<style scoped>\n",
       "    .dataframe tbody tr th:only-of-type {\n",
       "        vertical-align: middle;\n",
       "    }\n",
       "\n",
       "    .dataframe tbody tr th {\n",
       "        vertical-align: top;\n",
       "    }\n",
       "\n",
       "    .dataframe thead th {\n",
       "        text-align: right;\n",
       "    }\n",
       "</style>\n",
       "<table border=\"1\" class=\"dataframe\">\n",
       "  <thead>\n",
       "    <tr style=\"text-align: right;\">\n",
       "      <th></th>\n",
       "      <th>text</th>\n",
       "      <th>sentiment</th>\n",
       "    </tr>\n",
       "  </thead>\n",
       "  <tbody>\n",
       "    <tr>\n",
       "      <th>0</th>\n",
       "      <td>kenaikan iuran bpjs kesehatan munculkan empat ...</td>\n",
       "      <td>0</td>\n",
       "    </tr>\n",
       "    <tr>\n",
       "      <th>1</th>\n",
       "      <td>bayar bpjs aja ga sanggup siapa juga yang mau ...</td>\n",
       "      <td>0</td>\n",
       "    </tr>\n",
       "    <tr>\n",
       "      <th>2</th>\n",
       "      <td>pendidikan gratis nyatanya tidak kesehatan gra...</td>\n",
       "      <td>0</td>\n",
       "    </tr>\n",
       "    <tr>\n",
       "      <th>3</th>\n",
       "      <td>pelayanan kesehatan kurang baik bpjs malah naik</td>\n",
       "      <td>0</td>\n",
       "    </tr>\n",
       "    <tr>\n",
       "      <th>4</th>\n",
       "      <td>bpjs kesehatan sama ketenagakerjaan kenapa tid...</td>\n",
       "      <td>1</td>\n",
       "    </tr>\n",
       "    <tr>\n",
       "      <th>5</th>\n",
       "      <td>ini kenaikan iuran masih jauh di bawah perhitu...</td>\n",
       "      <td>1</td>\n",
       "    </tr>\n",
       "    <tr>\n",
       "      <th>6</th>\n",
       "      <td>aneh banget pelayanan kesehatan kurang baik bp...</td>\n",
       "      <td>0</td>\n",
       "    </tr>\n",
       "    <tr>\n",
       "      <th>7</th>\n",
       "      <td>harusnya tidak ada iuran bpjs harusnya kesehat...</td>\n",
       "      <td>0</td>\n",
       "    </tr>\n",
       "    <tr>\n",
       "      <th>8</th>\n",
       "      <td>adanya orang yang menyulitkan ketika dirujuk k...</td>\n",
       "      <td>0</td>\n",
       "    </tr>\n",
       "    <tr>\n",
       "      <th>9</th>\n",
       "      <td>tidak heran iuran naik bpjs aja tidak membayar...</td>\n",
       "      <td>0</td>\n",
       "    </tr>\n",
       "  </tbody>\n",
       "</table>\n",
       "</div>"
      ],
      "text/plain": [
       "                                                text  sentiment\n",
       "0  kenaikan iuran bpjs kesehatan munculkan empat ...          0\n",
       "1  bayar bpjs aja ga sanggup siapa juga yang mau ...          0\n",
       "2  pendidikan gratis nyatanya tidak kesehatan gra...          0\n",
       "3    pelayanan kesehatan kurang baik bpjs malah naik          0\n",
       "4  bpjs kesehatan sama ketenagakerjaan kenapa tid...          1\n",
       "5  ini kenaikan iuran masih jauh di bawah perhitu...          1\n",
       "6  aneh banget pelayanan kesehatan kurang baik bp...          0\n",
       "7  harusnya tidak ada iuran bpjs harusnya kesehat...          0\n",
       "8  adanya orang yang menyulitkan ketika dirujuk k...          0\n",
       "9  tidak heran iuran naik bpjs aja tidak membayar...          0"
      ]
     },
     "execution_count": 2,
     "metadata": {},
     "output_type": "execute_result"
    }
   ],
   "source": [
    "#Input data\n",
    "data = pd.read_csv(\"data_latih.csv\", usecols=[\"sentiment\", \"text\"])\n",
    "data.head(10)"
   ]
  },
  {
   "cell_type": "markdown",
   "metadata": {},
   "source": [
    "# Preprocessing"
   ]
  },
  {
   "cell_type": "code",
   "execution_count": 3,
   "metadata": {},
   "outputs": [],
   "source": [
    "#set stop word\n",
    "\n",
    "stop_words = stopwords.words('indonesian')\n",
    "\n",
    "stop_words = set([\"yg\", \"dg\", \"rt\", \"dgn\", \"ny\", \"d\", 'klo', \n",
    "                       'kalo', 'amp', 'biar', 'bikin', 'bilang', \n",
    "                       'gak', 'ga', 'nya', 'nih', 'sih', \n",
    "                       'si', 'tau', 'tdk', 'tuh', 'utk', 'ya', \n",
    "                       'jd', 'jgn', 'sdh', 'aja', 'n', 't', \n",
    "                       'nyg', 'hehe', 'pen', 'u', 'nan', 'loh', 'rt',\n",
    "                       '&amp', 'yah', 'lho', 'yuk', 'tdk', 'rb', 'dg', \n",
    "                       'guys', 'manteman', 'toh', 'amp', \n",
    "                       'dm', 'wi', 'sa', 'lha', 'loh', 'gustiii',\n",
    "                       'ora', 'bossque', 'egk', 'dsb', 'q', 'ak', 'sy', 'w', \n",
    "                        'yg', 'nah', 'nih', 'hufttttt', 'lah', 'aq', 'atw'])\n"
   ]
  },
  {
   "cell_type": "code",
   "execution_count": 4,
   "metadata": {},
   "outputs": [],
   "source": [
    "def preprocess_text(review):\n",
    "    review = re.sub(r\"http\\S+\", \"\", review)             # menghapus link website\n",
    "    review = re.sub(\"\\S*\\d\\S*\", \"\", review).strip()     # proses menghapus nomor\n",
    "    review = re.sub('[^A-Za-z]+', ' ', review)          # proses menghapus selain huruf\n",
    "    review = review.translate(str.maketrans(\"\",\"\",string.punctuation)) #menghapus tanda baca\n",
    "    review = review.lower()                             # proses case folding\n",
    "    review = [word for word in review.split(\" \") if not word in stop_words] # proses stop word\n",
    "    review = \" \".join(review)\n",
    "    review.strip()\n",
    "    return review\n",
    "\n",
    "data['text'] = data['text'].apply(lambda x: preprocess_text(x))"
   ]
  },
  {
   "cell_type": "code",
   "execution_count": 5,
   "metadata": {},
   "outputs": [
    {
     "data": {
      "text/plain": [
       "0    kenaikan iuran bpjs kesehatan munculkan empat ...\n",
       "1    bayar bpjs sanggup siapa juga yang mau percaya...\n",
       "2    pendidikan gratis nyatanya tidak kesehatan gra...\n",
       "3      pelayanan kesehatan kurang baik bpjs malah naik\n",
       "4    bpjs kesehatan sama ketenagakerjaan kenapa tid...\n",
       "Name: text, dtype: object"
      ]
     },
     "execution_count": 5,
     "metadata": {},
     "output_type": "execute_result"
    }
   ],
   "source": [
    "data['text'].head()"
   ]
  },
  {
   "cell_type": "code",
   "execution_count": 6,
   "metadata": {},
   "outputs": [],
   "source": [
    "X = data['text'].tolist()"
   ]
  },
  {
   "cell_type": "code",
   "execution_count": 7,
   "metadata": {},
   "outputs": [],
   "source": [
    "Y = data['sentiment']"
   ]
  },
  {
   "cell_type": "raw",
   "metadata": {},
   "source": [
    "#Preprocessing pada kelas label\n",
    "\n",
    "Y = to_categorical(data['sentiment'])\n",
    "print(\"Shape pada sentiment:\",Y.shape)"
   ]
  },
  {
   "cell_type": "code",
   "execution_count": 8,
   "metadata": {
    "scrolled": true
   },
   "outputs": [
    {
     "name": "stdout",
     "output_type": "stream",
     "text": [
      "Found 4015 unique tokens \n",
      "\n",
      "Index: {'bpjs': 1, 'kesehatan': 2, 'yang': 3, 'iuran': 4, 'dan': 5, 'ada': 6, 'ini': 7, 'di': 8, 'untuk': 9, 'tidak': 10, 'dengan': 11, 'rakyat': 12, 'kenaikan': 13, 'pemerintah': 14, 'itu': 15, 'bisa': 16, 'naik': 17, 'masyarakat': 18, 'peserta': 19, 'karena': 20, 'kalau': 21, 'saya': 22, 'kita': 23, 'tapi': 24, 'kelas': 25, 'bayar': 26, 'negara': 27, 'juga': 28, 'semua': 29, 'dari': 30, 'lagi': 31, 'sudah': 32, 'banyak': 33, 'dua': 34, 'jadi': 35, 'sakit': 36, 'pelayanan': 37, 'royong': 38, 'layanan': 39, 'masih': 40, 'buat': 41, 'orang': 42, 'satu': 43, 'gotong': 44, 'asuransi': 45, 'harus': 46, 'tetap': 47, 'ke': 48, 'lebih': 49, 'jaminan': 50, 'ketenagakerjaan': 51, 'jkn': 52, 'akan': 53, 'dalam': 54, 'mau': 55, 'apa': 56, 'membantu': 57, 'mampu': 58, 'tiga': 59, 'tapera': 60, 'cuci': 61, 'darah': 62, 'jangan': 63, 'manfaat': 64, 'terus': 65, 'kis': 66, 'pandemi': 67, 'kan': 68, 'baru': 69, 'udah': 70, 'adalah': 71, 'sama': 72, 'jokowi': 73, 'bagi': 74, 'sekarang': 75, 'pajak': 76, 'gaji': 77, 'subsidi': 78, 'atau': 79, 'lain': 80, 'rumah': 81, 'bukan': 82, 'sangat': 83, 'memberikan': 84, 'covid': 85, 'oleh': 86, 'belum': 87, 'saat': 88, 'biaya': 89, 'salah': 90, 'malah': 91, 'banget': 92, 'saja': 93, 'seperti': 94, 'ikut': 95, 'program': 96, 'tengah': 97, 'semoga': 98, 'pak': 99, 'tahun': 100, 'potongan': 101, 'dapat': 102, 'tertolong': 103, 'sampai': 104, 'defisit': 105, 'sehat': 106, 'punya': 107, 'hanya': 108, 'bantu': 109, 'pada': 110, 'mereka': 111, 'indonesia': 112, 'baik': 113, 'miskin': 114, 'jika': 115, 'pasien': 116, 'memberatkan': 117, 'terbaik': 118, 'kebijakan': 119, 'tak': 120, 'memang': 121, 'dulu': 122, 'puluh': 123, 'kenapa': 124, 'pake': 125, 'kok': 126, 'agar': 127, 'uang': 128, 'gratis': 129, 'adanya': 130, 'penghasilan': 131, 'bulan': 132, 'padahal': 133, 'lancar': 134, 'masa': 135, 'anda': 136, 'persen': 137, 'hidup': 138, 'fasilitas': 139, 'turun': 140, 'sekali': 141, 'kasih': 142, 'menjalani': 143, 'selalu': 144, 'tarif': 145, 'sendiri': 146, 'presiden': 147, 'dipotong': 148, 'undang': 149, 'hari': 150, 'kerja': 151, 'perlu': 152, 'demi': 153, 'putusan': 154, 'pernah': 155, 'membayar': 156, 'terima': 157, 'pakai': 158, 'bersama': 159, 'kaya': 160, 'ribu': 161, 'dukung': 162, 'swasta': 163, 'pasti': 164, 'kecil': 165, 'ma': 166, 'benar': 167, 'mahal': 168, 'rezim': 169, 'rakyatnya': 170, 'makin': 171, 'aku': 172, 'prinsip': 173, 'lima': 174, 'kurang': 175, 'bersyukur': 176, 'jelas': 177, 'potong': 178, 'kami': 179, 'cuma': 180, 'semakin': 181, 'gimana': 182, 'hadir': 183, 'kali': 184, 'pun': 185, 'kembali': 186, 'tentang': 187, 'paham': 188, 'selama': 189, 'mending': 190, 'lalu': 191, 'dong': 192, 'perpres': 193, 'mandiri': 194, 'dana': 195, 'besar': 196, 'menjadi': 197, 'terbantu': 198, 'bbm': 199, 'ditanggung': 200, 'sebagai': 201, 'secara': 202, 'penyesuaian': 203, 'pensiun': 204, 'lu': 205, 'masalah': 206, 'warga': 207, 'keberlangsungan': 208, 'sehingga': 209, 'sosial': 210, 'kepada': 211, 'pekerja': 212, 'susah': 213, 'panduan': 214, 'corona': 215, 'kalian': 216, 'merasakan': 217, 'maka': 218, 'penting': 219, 'para': 220, 'serta': 221, 'setelah': 222, 'soal': 223, 'juta': 224, 'ternyata': 225, 'teman': 226, 'mungkin': 227, 'mana': 228, 'apalagi': 229, 'pas': 230, 'hukum': 231, 'kelola': 232, 'baca': 233, 'menjaga': 234, 'jaga': 235, 'harga': 236, 'tiap': 237, 'sedang': 238, 'coba': 239, 'perusahaan': 240, 'deh': 241, 'tanpa': 242, 'harusnya': 243, 'sesuai': 244, 'naikkan': 245, 'atas': 246, 'dihapus': 247, 'bahwa': 248, 'kamu': 249, 'beli': 250, 'enam': 251, 'jalan': 252, 'merasa': 253, 'tersebut': 254, 'wabah': 255, 'dimana': 256, 'berobat': 257, 'dilakukan': 258, 'saling': 259, 'kartu': 260, 'diperbaiki': 261, 'peduli': 262, 'ambil': 263, 'berhenti': 264, 'kena': 265, 'menaikan': 266, 'empat': 267, 'tunggakan': 268, 'kebaikan': 269, 'mendapatkan': 270, 'peraturan': 271, 'hak': 272, 'ekonomi': 273, 'wajib': 274, 'karyawan': 275, 'butuh': 276, 'dia': 277, 'terhadap': 278, 'keluarga': 279, 'iya': 280, 'buku': 281, 'menolong': 282, 'gk': 283, 'meski': 284, 'murah': 285, 'melayani': 286, 'diberikan': 287, 'tinggal': 288, 'nanti': 289, 'duit': 290, 'berapa': 291, 'dinilai': 292, 'setiap': 293, 'pengusaha': 294, 'kualitas': 295, 'denda': 296, 'ketika': 297, 'tenaga': 298, 'ditengah': 299, 'bermanfaat': 300, 'gitu': 301, 'makan': 302, 'keberlanjutan': 303, 'resmi': 304, 'pula': 305, 'bertambah': 306, 'nasional': 307, 'bakal': 308, 'kondisi': 309, 'rs': 310, 'berat': 311, 'elektronik': 312, 'siapa': 313, 'nunggak': 314, 'listrik': 315, 'bagus': 316, 'tanggung': 317, 'lainnya': 318, 'hal': 319, 'telah': 320, 'usah': 321, 'menggunakan': 322, 'chika': 323, 'kantor': 324, 'beban': 325, 'cukup': 326, 'alasan': 327, 'membutuhkan': 328, 'daripada': 329, 'ibu': 330, 'maksimal': 331, 'dasar': 332, 'tua': 333, 'bapak': 334, 'emang': 335, 'biasa': 336, 'kebutuhan': 337, 'sistem': 338, 'nggak': 339, 'jawab': 340, 'namun': 341, 'besaran': 342, 'bawah': 343, 'dokter': 344, 'seharusnya': 345, 'dibayar': 346, 'akses': 347, 'artinya': 348, 'vika': 349, 'cek': 350, 'luar': 351, 'melalui': 352, 'mudah': 353, 'berjalan': 354, 'bener': 355, 'sebenarnya': 356, 'apakah': 357, 'tolong': 358, 'bantuan': 359, 'sulit': 360, 'anggaran': 361, 'cara': 362, 'langsung': 363, 'bs': 364, 'premi': 365, 'terjangkau': 366, 'bentuk': 367, 'tahu': 368, 'supaya': 369, 'mulai': 370, 'lewat': 371, 'tujuan': 372, 'aturan': 373, 'kayak': 374, 'sebelum': 375, 'awal': 376, 'memiliki': 377, 'lo': 378, 'ngga': 379, 'keberatan': 380, 'gara': 381, 'bingung': 382, 'meningkatkan': 383, 'sanggup': 384, 'ditambah': 385, 'aman': 386, 'hati': 387, 'kini': 388, 'keluar': 389, 'satunya': 390, 'tetapi': 391, 'puas': 392, 'menurut': 393, 'lupa': 394, 'siap': 395, 'selain': 396, 'gini': 397, 'dibayarkan': 398, 'belas': 399, 'depan': 400, 'tempat': 401, 'dilindungi': 402, 'bahkan': 403, 'dah': 404, 'boleh': 405, 'keuangan': 406, 'makanya': 407, 'jauh': 408, 'dijamin': 409, 'suka': 410, 'pusat': 411, 'bagaimana': 412, 'sejak': 413, 'ingin': 414, 'sadar': 415, 'membuat': 416, 'setuju': 417, 'seluruh': 418, 'obat': 419, 'hingga': 420, 'minta': 421, 'tetep': 422, 'mengalami': 423, 'perawatan': 424, 'rokok': 425, 'habis': 426, 'begitu': 427, 'bumn': 428, 'tangan': 429, 'aktif': 430, 'berpikir': 431, 'pengobatan': 432, 'tentu': 433, 'enggak': 434, 'naikin': 435, 'solusi': 436, 'mencari': 437, 'kemampuan': 438, 'rawat': 439, 'bodoh': 440, 'pendidikan': 441, 'untung': 442, 'begini': 443, 'jamsostek': 444, 'namanya': 445, 'berkat': 446, 'penuh': 447, 'aplikasi': 448, 'info': 449, 'mendukung': 450, 'kasus': 451, 'terkait': 452, 'tenang': 453, 'enak': 454, 'mengeluh': 455, 'memilih': 456, 'pembayaran': 457, 'hutang': 458, 'psbb': 459, 'cuman': 460, 'walau': 461, 'muncul': 462, 'pemotongan': 463, 'bukannya': 464, 'pihak': 465, 'bayangkan': 466, 'tunjangan': 467, 'goblok': 468, 'terancam': 469, 'koma': 470, 'per': 471, 'apapun': 472, 'utang': 473, 'memeras': 474, 'menikmati': 475, 'gaes': 476, 'paling': 477, 'pindah': 478, 'meskipun': 479, 'justru': 480, 'menunggak': 481, 'jamin': 482, 'gurauan': 483, 'semuanya': 484, 'pemimpin': 485, 'bidang': 486, 'pejabat': 487, 'rp': 488, 'dr': 489, 'delapan': 490, 'kepentingan': 491, 'telat': 492, 'naiknya': 493, 'diwajibkan': 494, 'berbeda': 495, 'tentunya': 496, 'tagihan': 497, 'terutama': 498, 'berikan': 499, 'jumlah': 500, 'sebelumnya': 501, 'sana': 502, 'sini': 503, 'terasa': 504, 'sebab': 505, 'masuk': 506, 'sementara': 507, 'memanfaatkan': 508, 'tabungan': 509, 'abis': 510, 'disuruh': 511, 'datang': 512, 'melawan': 513, 'giliran': 514, 'hasil': 515, 'akal': 516, 'perumahan': 517, 'gagal': 518, 'yakin': 519, 'kewajiban': 520, 'berharap': 521, 'beberapa': 522, 'dibuat': 523, 'sembuh': 524, 'menolak': 525, 'no': 526, 'operasi': 527, 'penyakit': 528, 'eh': 529, 'urus': 530, 'allah': 531, 'karna': 532, 'ri': 533, 'diam': 534, 'dianggap': 535, 'sebuah': 536, 'teriak': 537, 'kesinambungan': 538, 'dibanding': 539, 'nyatanya': 540, 'faskes': 541, 'menjamin': 542, 'masker': 543, 'daring': 544, 'mempunyai': 545, 'bila': 546, 'konsultasi': 547, 'serba': 548, 'senang': 549, 'segitu': 550, 'membiayai': 551, 'darurat': 552, 'nilai': 553, 'sering': 554, 'buruk': 555, 'lapangan': 556, 'setengah': 557, 'mengeluarkan': 558, 'akhirnya': 559, 'dipaksa': 560, 'belajar': 561, 'terserah': 562, 'sisa': 563, 'tambah': 564, 'ribet': 565, 'contoh': 566, 'dpr': 567, 'kelebihan': 568, 'mendapat': 569, 'badan': 570, 'jutaan': 571, 'jatuh': 572, 'diharapkan': 573, 'rutin': 574, 'menteri': 575, 'bubarkan': 576, 'lbh': 577, 'menengah': 578, 'dibatalkan': 579, 'tata': 580, 'dirut': 581, 'kesejahteraan': 582, 'mahkamah': 583, 'agung': 584, 'akibat': 585, 'krisis': 586, 'palsu': 587, 'nomor': 588, 'bro': 589, 'mas': 590, 'direksi': 591, 'ttg': 592, 'otaknya': 593, 'bisnis': 594, 'menanggung': 595, 'diberi': 596, 'jarak': 597, 'yaitu': 598, 'status': 599, 'informasi': 600, 'ponsel': 601, 'memudahkan': 602, 'positif': 603, 'membebani': 604, 'bumi': 605, 'penjelasan': 606, 'dipahami': 607, 'cari': 608, 'perbaiki': 609, 'tai': 610, 'gunanya': 611, 'berarti': 612, 'kepuasan': 613, 'intinya': 614, 'disaat': 615, 'dinaikkan': 616, 'ratus': 617, 'dapet': 618, 'tepat': 619, 'dikelola': 620, 'pegawai': 621, 'sedikit': 622, 'manusia': 623, 'situasi': 624, 'termasuk': 625, 'sedih': 626, 'walaupun': 627, 'pesertanya': 628, 'bergotong': 629, 'ikhlas': 630, 'pilih': 631, 'anak': 632, 'tinggi': 633, 'katanya': 634, 'beda': 635, 'lama': 636, 'mari': 637, 'beres': 638, 'naikan': 639, 'berasa': 640, 'bebas': 641, 'harisomawati': 642, 'terbukti': 643, 'tiba': 644, 'rasa': 645, 'memikirkan': 646, 'bangsa': 647, 'kebanyakan': 648, 'segera': 649, 'ganti': 650, 'pd': 651, 'menyengsarakan': 652, 'terjadi': 653, 'kesulitan': 654, 'peran': 655, 'menyelamatkan': 656, 'urusan': 657, 'bubar': 658, 'maaf': 659, 'parah': 660, 'kelonggaran': 661, 'panjang': 662, 'silang': 663, 'pilihan': 664, 'mikir': 665, 'spt': 666, 'otak': 667, 'dipaksakan': 668, 'dijadikan': 669, 'diperas': 670, 'pendapatan': 671, 'seberapa': 672, 'doang': 673, 'kebayang': 674, 'media': 675, 'suara': 676, 'cepat': 677, 'melakukan': 678, 'era': 679, 'lengkap': 680, 'bertanggung': 681, 'dibalik': 682, 'cabut': 683, 'mendingan': 684, 'pastinya': 685, 'kasian': 686, 'pribadi': 687, 'diterima': 688, 'ujung': 689, 'bubarin': 690, 'ngomong': 691, 'beri': 692, 'menghabiskan': 693, 'merupakan': 694, 'rata': 695, 'upah': 696, 'air': 697, 'korban': 698, 'perbulan': 699, 'negeri': 700, 'phk': 701, 'internet': 702, 'anjing': 703, 'mikirin': 704, 'inilah': 705, 'kapan': 706, 'sempat': 707, 'betul': 708, 'ngurus': 709, 'gila': 710, 'hampir': 711, 'penerima': 712, 'tuk': 713, 'lagian': 714, 'surat': 715, 'hitung': 716, 'memutar': 717, 'digugat': 718, 'liat': 719, 'data': 720, 'pusing': 721, 'anggota': 722, 'operasional': 723, 'pbi': 724, 'bego': 725, 'sebagian': 726, 'bukti': 727, 'biayanya': 728, 'harapan': 729, 'pengeluaran': 730, 'melahirkan': 731, 'periode': 732, 'berikut': 733, 'sebaiknya': 734, 'kalangan': 735, 'digunakan': 736, 'alasannya': 737, 'kata': 738, 'menjalankan': 739, 'masing': 740, 'terlalu': 741, 'empati': 742, 'seratus': 743, 'elemen': 744, 'menutup': 745, 'inap': 746, 'lipat': 747, 'preminya': 748, 'saudara': 749, 'kedua': 750, 'amanat': 751, 'lihat': 752, 'mrk': 753, 'nakes': 754, 'vs': 755, 'pertama': 756, 'miris': 757, 'kapitalis': 758, 'cebong': 759, 'selesai': 760, 'terbaru': 761, 'interaktif': 762, 'chat': 763, 'pokoknya': 764, 'permasalahan': 765, 'kemudahan': 766, 'berita': 767, 'virus': 768, 'peras': 769, 'hasilnya': 770, 'rsud': 771, 'merugikan': 772, 'memberi': 773, 'mengerti': 774, 'berupa': 775, 'dampak': 776, 'mengenai': 777, 'tujuannya': 778, 'berbagai': 779, 'bahas': 780, 'kamar': 781, 'biayai': 782, 'melanggar': 783, 'diri': 784, 'diturunkan': 785, 'utamakan': 786, 'alih': 787, 'ngapain': 788, 'manajemen': 789, 'bangkrut': 790, 'penderita': 791, 'umr': 792, 'raya': 793, 'buruh': 794, 'antara': 795, 'dimiliki': 796, 'bagian': 797, 'dirugikan': 798, 'ratusan': 799, 'dipake': 800, 'uangnya': 801, 'meningkat': 802, 'bayaran': 803, 'berlanjut': 804, 'soalnya': 805, 'diterapkan': 806, 'sembilan': 807, 'kemaren': 808, 'ladang': 809, 'korupsi': 810, 'mengambil': 811, 'dibebankan': 812, 'nantinya': 813, 'khawatir': 814, 'menilai': 815, 'dibawah': 816, 'standar': 817, 'wong': 818, 'pemerintahan': 819, 'bahagia': 820, 'main': 821, 'tutup': 822, 'sok': 823, 'disubsidi': 824, 'anggap': 825, 'amal': 826, 'tujuh': 827, 'cerita': 828, 'ginjal': 829, 'minggu': 830, 'menurunkan': 831, 'penanganan': 832, 'sisi': 833, 'waktu': 834, 'nasib': 835, 'keadaan': 836, 'ayah': 837, 'prosedur': 838, 'manfaatkan': 839, 'ngak': 840, 'ringan': 841, 'rendah': 842, 'wajar': 843, 'melindungi': 844, 'notabene': 845, 'mata': 846, 'balik': 847, 'dilayani': 848, 'jiwa': 849, 'keuntungan': 850, 'nama': 851, 'kekurangannya': 852, 'mesti': 853, 'polemik': 854, 'suruh': 855, 'skema': 856, 'kenaikannya': 857, 'pahami': 858, 'asal': 859, 'kegotong': 860, 'royongan': 861, 'berkelanjutan': 862, 'sesama': 863, 'pembiayaan': 864, 'terlibat': 865, 'pola': 866, 'perubahan': 867, 'gapapa': 868, 'jangka': 869, 'meringankan': 870, 'juli': 871, 'pengen': 872, 'unduh': 873, 'medis': 874, 'om': 875, 'penjelasannya': 876, 'in': 877, 'pikir': 878, 'gengsi': 879, 'konsep': 880, 'menangani': 881, 'dungu': 882, 'protes': 883, 'penyelenggara': 884, 'melukai': 885, 'pensayasa': 886, 'malu': 887, 'disalahkan': 888, 'menyulitkan': 889, 'tingkat': 890, 'konsul': 891, 'mulu': 892, 'turunkan': 893, 'panik': 894, 'mempermudah': 895, 'rujukan': 896, 'praktis': 897, 'digital': 898, 'ala': 899, 'klaim': 900, 'kota': 901, 'puskesmas': 902, 'klinik': 903, 'bangunan': 904, 'dibaca': 905, 'terjamin': 906, 'sedangkan': 907, 'berusaha': 908, 'menarik': 909, 'komiknya': 910, 'manfaatnya': 911, 'berbenah': 912, 'kedepannya': 913, 'halah': 914, 'harganya': 915, 'pertamina': 916, 'triliunan': 917, 'boro': 918, 'daya': 919, 'askes': 920, 'nurani': 921, 'gede': 922, 'kadang': 923, 'hancur': 924, 'sapi': 925, 'perah': 926, 'kasihan': 927, 'jam': 928, 'periksa': 929, 'jakarta': 930, 'amat': 931, 'sungguh': 932, 'menyusahkan': 933, 'malam': 934, 'rumahnya': 935, 'pcr': 936, 'gambar': 937, 'sejahtera': 938, 'dipakai': 939, 'pengelola': 940, 'triliun': 941, 'sebesar': 942, 'pengelolaan': 943, 'ama': 944, 'nabung': 945, 'lemah': 946, 'otomatis': 947, 'patuh': 948, 'berlaku': 949, 'disini': 950, 'segala': 951, 'sepenuhnya': 952, 'kemudian': 953, 'nol': 954, 'sm': 955, 'dibilang': 956, 'kemana': 957, 'porsi': 958, 'ku': 959, 'simpanan': 960, 'prakerja': 961, 'sore': 962, 'tolol': 963, 'kinerja': 964, 'sifatnya': 965, 'pantas': 966, 'sepertinya': 967, 'yaa': 968, 'mengelola': 969, 'layak': 970, 'rugi': 971, 'macam': 972, 'alihkan': 973, 'bangun': 974, 'disitu': 975, 'gugat': 976, 'sejumlah': 977, 'pengguna': 978, 'blm': 979, 'pro': 980, 'sengaja': 981, 'doakan': 982, 'apabila': 983, 'proses': 984, 'syukur': 985, 'ni': 986, 'seminggu': 987, 'tuhan': 988, 'menemukan': 989, 'nyata': 990, 'segini': 991, 'bakalan': 992, 'ngerokok': 993, 'kau': 994, 'pekerjaan': 995, 'mentri': 996, 'utama': 997, 'ngasih': 998, 'memperbaiki': 999, 'labanget': 1000, 'lakukan': 1001, 'setara': 1002, 'mati': 1003, 'mundur': 1004, 'seolah': 1005, 'optimal': 1006, 'asuransinya': 1007, 'umum': 1008, 'jujur': 1009, 'nanggung': 1010, 'menurun': 1011, 'menunjukkan': 1012, 'daerah': 1013, 'ikutan': 1014, 'dikasih': 1015, 'diadakan': 1016, 'boba': 1017, 'rajin': 1018, 'percuma': 1019, 'sejauh': 1020, 'mencukupi': 1021, 'efektif': 1022, 'sekalian': 1023, 'berlebihan': 1024, 'dipertimbangkan': 1025, 'memengeluh': 1026, 'pelunasan': 1027, 'petugas': 1028, 'sebaliknya': 1029, 'pembahasan': 1030, 'terkena': 1031, 'bersifat': 1032, 'sekian': 1033, 'perlindungan': 1034, 'ialah': 1035, 'tweps': 1036, 'pemberi': 1037, 'konsumtif': 1038, 'prioritas': 1039, 'apbn': 1040, 'masak': 1041, 'jatah': 1042, 'dimanfaatkan': 1043, 'golongan': 1044, 'mei': 1045, 'warganya': 1046, 'situ': 1047, 'akui': 1048, 'kemajuan': 1049, 'ngerti': 1050, 'kuat': 1051, 'non': 1052, 'bos': 1053, 'kemarin': 1054, 'ramai': 1055, 'lagisg': 1056, 'konyol': 1057, 'ajah': 1058, 'kl': 1059, 'tukang': 1060, 'nyinyir': 1061, 'haram': 1062, 'salam': 1063, 'memenuhi': 1064, 'pdip': 1065, 'dendanya': 1066, 'pemalakan': 1067, 'pendukung': 1068, 'pengangguran': 1069, 'sby': 1070, 'kira': 1071, 'rame': 1072, 'partai': 1073, 'diwakili': 1074, 'umat': 1075, 'percaya': 1076, 'heran': 1077, 'mental': 1078, 'dibandingkan': 1079, 'adalagi': 1080, 'minim': 1081, 'menunggu': 1082, 'ortu': 1083, 'hemodialisis': 1084, 'antrian': 1085, 'kehadiran': 1086, 'berbasis': 1087, 'maupun': 1088, 'dikeluarkan': 1089, 'gunakan': 1090, 'menjawab': 1091, 'asisten': 1092, 'ragu': 1093, 'desa': 1094, 'pertambahan': 1095, 'dikenakan': 1096, 'maju': 1097, 'ilustrasi': 1098, 'bertujuan': 1099, 'pln': 1100, 'puluhan': 1101, 'jiwasraya': 1102, 'serbi': 1103, 'mmc': 1104, 'dunia': 1105, 'carut': 1106, 'marut': 1107, 'maksudnya': 1108, 'rasakan': 1109, 'tega': 1110, 'arah': 1111, 'fungsinya': 1112, 'pns': 1113, 'perhatian': 1114, 'diabetes': 1115, 'disebut': 1116, 'slip': 1117, 'hakiki': 1118, 'dibiayai': 1119, 'siang': 1120, 'divonis': 1121, 'karhutla': 1122, 'harap': 1123, 'nutupin': 1124, 'mentok': 1125, 'paksa': 1126, 'duitnya': 1127, 'kecelakaan': 1128, 'sumbangsih': 1129, 'oke': 1130, 'pasiennya': 1131, 'sebut': 1132, 'gajinya': 1133, 'sekeluarga': 1134, 'haji': 1135, 'akalan': 1136, 'papua': 1137, 'khusus': 1138, 'tahapan': 1139, 'kebagian': 1140, 'adil': 1141, 'guna': 1142, 'keselamatan': 1143, 'gatau': 1144, 'ilang': 1145, 'menurutku': 1146, 'semacam': 1147, 'inget': 1148, 'tambahan': 1149, 'sistemnya': 1150, 'sepuluh': 1151, 'hilang': 1152, 'entah': 1153, 'blt': 1154, 'cucu': 1155, 'ayo': 1156, 'jarang': 1157, 'tes': 1158, 'hebat': 1159, 'ubah': 1160, 'arisan': 1161, 'kayaknya': 1162, 'lahan': 1163, 'mah': 1164, 'koperasi': 1165, 'menutupi': 1166, 'jalani': 1167, 'waduh': 1168, 'esemka': 1169, 'kabarnya': 1170, 'kampanye': 1171, 'koar': 1172, 'mirip': 1173, 'selanjutnya': 1174, 'berubah': 1175, 'kehidupan': 1176, 'kerjaan': 1177, 'berjuang': 1178, 'mobil': 1179, 'lambung': 1180, 'barang': 1181, 'lawan': 1182, 'pantes': 1183, 'joko': 1184, 'kelurahan': 1185, 'insya': 1186, 'berterima': 1187, 'berhak': 1188, 'kesehatannya': 1189, 'misalnya': 1190, 'contohnya': 1191, 'kelasnya': 1192, 'kepala': 1193, 'mba': 1194, 'amerika': 1195, 'terdilindungi': 1196, 'tu': 1197, 'ngotot': 1198, 'ataupun': 1199, 'ia': 1200, 'menerima': 1201, 'niatkan': 1202, 'kepuasaan': 1203, 'kelancaran': 1204, 'beliau': 1205, 'mengdilindungi': 1206, 'didilindungi': 1207, 'vertigo': 1208, 'harta': 1209, 'akhir': 1210, 'tolak': 1211, 'tka': 1212, 'pemikiran': 1213, 'memperbaharui': 1214, 'ketua': 1215, 'jamkesmas': 1216, 'ceritanya': 1217, 'dibidang': 1218, 'jahat': 1219, 'cocok': 1220, 'agak': 1221, 'pt': 1222, 'prudential': 1223, 'axa': 1224, 'bisanya': 1225, 'bayarnya': 1226, 'daftar': 1227, 'belakangan': 1228, 'bersyukurlah': 1229, 'dibubarkan': 1230, 'pemda': 1231, 'pasang': 1232, 'tulang': 1233, 'sembako': 1234, 'sengsarakan': 1235, 'akali': 1236, 'diturunin': 1237, 'usai': 1238, 'bahasanya': 1239, 'selamatkan': 1240, 'batal': 1241, 'galau': 1242, 'kesusahan': 1243, 'dirawat': 1244, 'sepakat': 1245, 'paket': 1246, 'alias': 1247, 'bekerja': 1248, 'dirasakan': 1249, 'mempertahankan': 1250, 'eksistensinya': 1251, 'keatas': 1252, 'azas': 1253, 'semata': 1254, 'heboh': 1255, 'berlindung': 1256, 'pikirkan': 1257, 'termakan': 1258, 'selamanya': 1259, 'berada': 1260, 'mengutamakan': 1261, 'berlangsungnya': 1262, 'kaget': 1263, 'sepatutnya': 1264, 'ngomel': 1265, 'demikian': 1266, 'akut': 1267, 'obatan': 1268, 'mertua': 1269, 'stroke': 1270, 'pandemik': 1271, 'disinilah': 1272, 'baiknya': 1273, 'tetaplah': 1274, 'pembayar': 1275, 'nilainya': 1276, 'setidaknya': 1277, 'misi': 1278, 'jebol': 1279, 'pbpu': 1280, 'sebungkus': 1281, 'kurangin': 1282, 'merokok': 1283, 'luas': 1284, 'prinsipnya': 1285, 'biarlah': 1286, 'wow': 1287, 'make': 1288, 'upaya': 1289, 'rusak': 1290, 'jugatau': 1291, 'didapat': 1292, 'syarat': 1293, 'igd': 1294, 'pergi': 1295, 'gampang': 1296, 'dukungan': 1297, 'kecewa': 1298, 'dihapuskan': 1299, 'ekonominya': 1300, 'semangat': 1301, 'berdampak': 1302, 'ahy': 1303, 'komisi': 1304, 'memutuskan': 1305, 'membaik': 1306, 'dilihat': 1307, 'harapannya': 1308, 'rekomendasi': 1309, 'wah': 1310, 'kalaupun': 1311, 'kanker': 1312, 'ibarat': 1313, 'membatalkan': 1314, 'samakan': 1315, 'konstitusi': 1316, 'kritik': 1317, 'sah': 1318, 'dipenuhi': 1319, 'mantan': 1320, 'kpk': 1321, 'mensubsidi': 1322, 'bpk': 1323, 'patut': 1324, 'berdiri': 1325, 'temen': 1326, 'gerombolan': 1327, 'dibantu': 1328, 'adapun': 1329, 'bhw': 1330, 'berkas': 1331, 'ingat': 1332, 'kontrol': 1333, 'aspirasi': 1334, 'pasal': 1335, 'penunggak': 1336, 'menjelaskan': 1337, 'mengatakan': 1338, 'sikap': 1339, 'dibahas': 1340, 'woi': 1341, 'pelit': 1342, 'kebohongan': 1343, 'bangsat': 1344, 'menghadapi': 1345, 'menekan': 1346, 'berjuta': 1347, 'lembek': 1348, 'tegas': 1349, 'isi': 1350, 'mall': 1351, 'solo': 1352, 'politik': 1353, 'dinas': 1354, 'ancaman': 1355, 'jabatan': 1356, 'diakali': 1357, 'terburuk': 1358, 'total': 1359, 'terdampak': 1360, 'keanggotaan': 1361, 'kembalikan': 1362, 'buta': 1363, 'ngamuk': 1364, 'kadrun': 1365, 'netizen': 1366, 'elu': 1367, 'kezaliman': 1368, 'din': 1369, 'bela': 1370, 'zon': 1371, 'pura': 1372, 'dosa': 1373, 'meninggal': 1374, 'negatif': 1375, 'perhitungan': 1376, 'aktuaria': 1377, 'aneh': 1378, 'dirujuk': 1379, 'didukung': 1380, 'bebani': 1381, 'pemprov': 1382, 'aceh': 1383, 'didalamnya': 1384, 'terusan': 1385, 'berpenghasilan': 1386, 'lumayan': 1387, 'berguna': 1388, 'melunasi': 1389, 'pengalaman': 1390, 'pembersihan': 1391, 'unik': 1392, 'keduanya': 1393, 'fungsi': 1394, 'repot': 1395, 'memperoleh': 1396, 'yakni': 1397, 'balas': 1398, 'melewati': 1399, 'merepotkan': 1400, 'suatu': 1401, 'terobosan': 1402, 'komitmen': 1403, 'pelayan': 1404, 'simpan': 1405, 'bangga': 1406, 'berfungsi': 1407, 'dimanapun': 1408, 'jawabkah': 1409, 'jurus': 1410, 'ketulungan': 1411, 'sederhanakan': 1412, 'pengajuan': 1413, 'syaratnya': 1414, 'napi': 1415, 'dilepas': 1416, 'mumpuni': 1417, 'berstatus': 1418, 'terapkan': 1419, 'lelah': 1420, 'dijelaskan': 1421, 'teliti': 1422, 'dangkal': 1423, 'menggambarkan': 1424, 'kartun': 1425, 'kontak': 1426, 'infonya': 1427, 'simpang': 1428, 'siur': 1429, 'ditetapkan': 1430, 'peningkatan': 1431, 'dilanjut': 1432, 'dibenahi': 1433, 'dalamnya': 1434, 'ujungnya': 1435, 'gausah': 1436, 'bpip': 1437, 'stafsus': 1438, 'hemat': 1439, 'kapankah': 1440, 'dinaikan': 1441, 'wifi': 1442, 'keren': 1443, 'lhokseumawe': 1444, 'waras': 1445, 'pangan': 1446, 'sumber': 1447, 'alam': 1448, 'lantas': 1449, 'motong': 1450, 'calo': 1451, 'legislatif': 1452, 'detailkan': 1453, 'persis': 1454, 'pemerasan': 1455, 'hipertensi': 1456, 'memakai': 1457, 'ditambahin': 1458, 'pikul': 1459, 'turunnya': 1460, 'perpanjang': 1461, 'super': 1462, 'laksanakan': 1463, 'hukumannya': 1464, 'ptun': 1465, 'hamil': 1466, 'barat': 1467, 'maksud': 1468, 'kehilangan': 1469, 'sanksi': 1470, 'dinyatakan': 1471, 'hakim': 1472, 'pengadilan': 1473, 'umur': 1474, 'upahnya': 1475, 'direksinya': 1476, 'diklaim': 1477, 'persentasenya': 1478, 'bertahun': 1479, 'kpr': 1480, 'ditolak': 1481, 'keperluan': 1482, 'menambah': 1483, 'bantuin': 1484, 'penderitaan': 1485, 'cape': 1486, 'mengingat': 1487, 'menentukan': 1488, 'lanjut': 1489, 'kontol': 1490, 'komunikasi': 1491, 'materi': 1492, 'de': 1493, 'kerugian': 1494, 'kepake': 1495, 'kebakaran': 1496, 'hutan': 1497, 'bulanannya': 1498, 'diganti': 1499, 'kematian': 1500, 'menggunakannya': 1501, 'tanah': 1502, 'setoran': 1503, 'urgensinya': 1504, 'ditarik': 1505, 'rasanya': 1506, 'ko': 1507, 'asu': 1508, 'nyari': 1509, 'kah': 1510, 'pencairan': 1511, 'bulanan': 1512, 'harapkan': 1513, 'ampun': 1514, 'vip': 1515, 'duanya': 1516, 'zakat': 1517, 'ngurusnya': 1518, 'nge': 1519, 'segmen': 1520, 'konsepnya': 1521, 'apasi': 1522, 'tergantung': 1523, 'rapid': 1524, 'kecuali': 1525, 'pemasukan': 1526, 'diatas': 1527, 'walah': 1528, 'asli': 1529, 'ngeh': 1530, 'perjuangkan': 1531, 'jerat': 1532, 'nekat': 1533, 'wajahnya': 1534, 'diluar': 1535, 'haha': 1536, 'sekitar': 1537, 'kekurangan': 1538, 'sayang': 1539, 'batas': 1540, 'normal': 1541, 'perjuangan': 1542, 'ruwet': 1543, 'persetujuan': 1544, 'pati': 1545, 'hormati': 1546, 'mencapai': 1547, 'sumbangan': 1548, 'ketentuan': 1549, 'se': 1550, 'fakita': 1551, 'kapitalisme': 1552, 'pinjaman': 1553, 'penyediaan': 1554, 'jilid': 1555, 'ntar': 1556, 'mk': 1557, 'tk': 1558, 'asn': 1559, 'tadi': 1560, 'bermasalah': 1561, 'isinya': 1562, 'kenaikkan': 1563, 'pa': 1564, 'hrd': 1565, 'tanya': 1566, 'mbak': 1567, 'jelaskan': 1568, 'sinergi': 1569, 'nyicil': 1570, 'disana': 1571, 'barusan': 1572, 'setahun': 1573, 'mujiati': 1574, 'rekening': 1575, 'bank': 1576, 'seorang': 1577, 'semenjak': 1578, 'terlindungi': 1579, 'oh': 1580, 'kontra': 1581, 'bilangnya': 1582, 'mempersulit': 1583, 'keluhan': 1584, 'kabar': 1585, 'terjaga': 1586, 'slur': 1587, 'teruntuk': 1588, 'membayarkan': 1589, 'mama': 1590, 'hidupnya': 1591, 'turut': 1592, 'emosi': 1593, 'merosot': 1594, 'jor': 1595, 'joran': 1596, 'leher': 1597, 'kerasa': 1598, 'ngakak': 1599, 'besarnya': 1600, 'usia': 1601, 'sri': 1602, 'puji': 1603, 'mendengar': 1604, 'artikel': 1605, 'masya': 1606, 'amin': 1607, 'wanti': 1608, 'baginya': 1609, 'keuntungannya': 1610, 'simak': 1611, 'dibutuhkan': 1612, 'anwar': 1613, 'pancasila': 1614, 'kunjung': 1615, 'istri': 1616, 'ngomongin': 1617, 'minuman': 1618, 'ukur': 1619, 'merdeka': 1620, 'damai': 1621, 'sengsara': 1622, 'engtidak': 1623, 'keras': 1624, 'rencana': 1625, 'menuruntuku': 1626, 'digaji': 1627, 'imbas': 1628, 'dipikirin': 1629, 'nominal': 1630, 'tingkatkan': 1631, 'milik': 1632, 'sadis': 1633, 'tekor': 1634, 'atur': 1635, 'bolak': 1636, 'manulife': 1637, 'udahlah': 1638, 'ngutang': 1639, 'kemanusiaan': 1640, 'bayarin': 1641, 'idi': 1642, 'bukankah': 1643, 'menggratiskan': 1644, 'disadari': 1645, 'nutup': 1646, 'abal': 1647, 'tandanya': 1648, 'nutupi': 1649, 'keliatan': 1650, 'bu': 1651, 'terbalik': 1652, 'lembaga': 1653, 'berbuat': 1654, 'karyawannya': 1655, 'widodo': 1656, 'patuhi': 1657, 'peka': 1658, 'menghindari': 1659, 'jantung': 1660, 'batalkan': 1661, 'seenaknya': 1662, 'disambut': 1663, 'lainada': 1664, 'berbayar': 1665, 'diingat': 1666, 'pecat': 1667, 'bermaksud': 1668, 'doyan': 1669, 'ditingkatkan': 1670, 'itupun': 1671, 'menyiapkan': 1672, 'dikumpulkan': 1673, 'ceceu': 1674, 'menyisihkan': 1675, 'mengantisipasi': 1676, 'risiko': 1677, 'hancurkan': 1678, 'fakitanya': 1679, 'mumpung': 1680, 'berdoa': 1681, 'senantiasa': 1682, 'faslititas': 1683, 'marah': 1684, 'terprovokasi': 1685, 'berbagi': 1686, 'dianut': 1687, 'berkesinambungan': 1688, 'bijak': 1689, 'angka': 1690, 'terbaiknya': 1691, 'awalnya': 1692, 'sebagi': 1693, 'dipandang': 1694, 'ketersediaan': 1695, 'pulsa': 1696, 'dampaknya': 1697, 'nyaman': 1698, 'sehari': 1699, 'tindakan': 1700, 'ketahuilah': 1701, 'menetapkan': 1702, 'gapapaa': 1703, 'dibeli': 1704, 'menata': 1705, 'ulang': 1706, 'bijaksana': 1707, 'nolong': 1708, 'komersil': 1709, 'narasi': 1710, 'pagebluk': 1711, 'dijaga': 1712, 'abaikan': 1713, 'video': 1714, 'keberadaan': 1715, 'ditolong': 1716, 'termurah': 1717, 'logika': 1718, 'gantikan': 1719, 'buruknya': 1720, 'ngambil': 1721, 'tercantum': 1722, 'inti': 1723, 'masalahnya': 1724, 'istimewa': 1725, 'dipikir': 1726, 'sakitnya': 1727, 'kurasa': 1728, 'bukanlah': 1729, 'programnya': 1730, 'pertolongan': 1731, 'cinta': 1732, 'niatnya': 1733, 'sediakan': 1734, 'kacau': 1735, 'balau': 1736, 'hilangkan': 1737, 'memaksakan': 1738, 'gengs': 1739, 'mekanismenya': 1740, 'blora': 1741, 'mengarah': 1742, 'maha': 1743, 'berkuasa': 1744, 'ugd': 1745, 'gawat': 1746, 'hemodialisa': 1747, 'protokol': 1748, 'ditutup': 1749, 'hapus': 1750, 'mengakui': 1751, 'penghapusan': 1752, 'kak': 1753, 'mohon': 1754, 'lahir': 1755, 'membebankan': 1756, 'mutu': 1757, 'sing': 1758, 'pembangunan': 1759, 'ja': 1760, 'solusinya': 1761, 'menerbitkan': 1762, 'maman': 1763, 'misal': 1764, 'khususnya': 1765, 'tanggapan': 1766, 'menyayangkan': 1767, 'aktifkan': 1768, 'meminta': 1769, 'airlangga': 1770, 'medisnya': 1771, 'sembaranganan': 1772, 'sgitu': 1773, 'tunggu': 1774, 'tambal': 1775, 'kritis': 1776, 'bertahan': 1777, 'opname': 1778, 'audit': 1779, 'jelek': 1780, 'buru': 1781, 'perbaikan': 1782, 'ahli': 1783, 'kesempatan': 1784, 'sebelah': 1785, 'jalur': 1786, 'dibatasi': 1787, 'as': 1788, 'rasain': 1789, 'pilihannya': 1790, 'maunya': 1791, 'patah': 1792, 'ente': 1793, 'keuangannya': 1794, 'kewajibannya': 1795, 'berhasil': 1796, 'potensi': 1797, 'waktunya': 1798, 'smp': 1799, 'smg': 1800, 'papa': 1801, 'tni': 1802, 'polri': 1803, 'istilah': 1804, 'republik': 1805, 'bareng': 1806, 'menerapkan': 1807, 'kedisiplinan': 1808, 'adlh': 1809, 'sumbu': 1810, 'gratisan': 1811, 'ego': 1812, 'ttapi': 1813, 'biasanya': 1814, 'inflasi': 1815, 'sekaligus': 1816, 'kolektif': 1817, 'stabilitas': 1818, 'sektor': 1819, 'pegawainya': 1820, 'dibawa': 1821, 'mafia': 1822, 'faktor': 1823, 'bpjsnya': 1824, 'kemiskinan': 1825, 'oprasi': 1826, 'ablasi': 1827, 'lomba': 1828, 'rally': 1829, 'vlog': 1830, 'link': 1831, 'berdasarkan': 1832, 'menang': 1833, 'sprti': 1834, 'gugatan': 1835, 'jk': 1836, 'bebaskan': 1837, 'istana': 1838, 'bung': 1839, 'biro': 1840, 'iii': 1841, 'perintah': 1842, 'jel': 1843, 'dear': 1844, 'disuntik': 1845, 'resesi': 1846, 'motor': 1847, 'tvri': 1848, 'kendaraan': 1849, 'kolaps': 1850, 'menyusul': 1851, 'kikir': 1852, 'dicabut': 1853, 'cm': 1854, 'china': 1855, 'rugikan': 1856, 'or': 1857, 'kecaman': 1858, 'berdatangan': 1859, 'haruse': 1860, 'pokok': 1861, 'keadilan': 1862, 'cukong': 1863, 'menerus': 1864, 'palak': 1865, 'dibuka': 1866, 'suntik': 1867, 'bahaya': 1868, 'diharuskan': 1869, 'migran': 1870, 'warisan': 1871, 'milih': 1872, 'diminta': 1873, 'pandang': 1874, 'zalim': 1875, 'menentang': 1876, 'dibentuknya': 1877, 'bye': 1878, 'semudah': 1879, 'omongan': 1880, 'judul': 1881, 'berpoya': 1882, 'payah': 1883, 'diatur': 1884, 'pemkot': 1885, 'pemaksaan': 1886, 'tulus': 1887, 'sak': 1888, 'stress': 1889, 'terpaksa': 1890, 'dicairkan': 1891, 'kutanya': 1892, 'trauma': 1893, 'belasting': 1894, 'pemeliharaan': 1895, 'cikal': 1896, 'dikaitkan': 1897, 'penyelewengan': 1898, 'orba': 1899, 'dilanjuntukan': 1900, 'khilafah': 1901, 'serumit': 1902, 'tempo': 1903, 'investasi': 1904, 'penindasan': 1905, 'th': 1906, 'buka': 1907, 'belanja': 1908, 'ketidakmampuan': 1909, 'upeti': 1910, 'beginilah': 1911, 'dikapitalisasi': 1912, 'pulang': 1913, 'islam': 1914, 'ngakalin': 1915, 'dilanggar': 1916, 'mo': 1917, 'byar': 1918, 'fokus': 1919, 'memenunggu': 1920, 'arab': 1921, 'saudi': 1922, 'firaun': 1923, 'menjadikan': 1924, 'lucu': 1925, 'beralih': 1926, 'mreka': 1927, 'awam': 1928, 'politikus': 1929, 'komplain': 1930, 'hrg': 1931, 'mendahulukeun': 1932, 'duluan': 1933, 'tenggang': 1934, 'subtansi': 1935, 'menyediakan': 1936, 'ndleming': 1937, 'ubun': 1938, 'komenar': 1939, 'gobloknya': 1940, 'kapitalisasi': 1941, 'ra': 1942, 'proyek': 1943, 'jaman': 1944, 'beneran': 1945, 'g': 1946, 'lepas': 1947, 'hubungan': 1948, 'pamor': 1949, 'buzzer': 1950, 'bakar': 1951, 'takut': 1952, 'ngaku': 1953, 'apaan': 1954, 'health': 1955, 'impeachment': 1956, 'mebertambah': 1957, 'pemikir': 1958, 'jualan': 1959, 'premium': 1960, 'hahahaha': 1961, 'jelata': 1962, 'ttd': 1963, 'mewakili': 1964, 'kesusahannya': 1965, 'kelistrikan': 1966, 'api': 1967, 'pupuk': 1968, 'sebutan': 1969, 'dituruti': 1970, 'rekan': 1971, 'dmn': 1972, 'tertimpa': 1973, 'selisihnya': 1974, 'silakan': 1975, 'jkw': 1976, 'munculkan': 1977, 'sentimen': 1978, 'gaib': 1979, 'triliyunan': 1980, 'arahan': 1981, 'pembelajaran': 1982, 'apd': 1983, 'kementrian': 1984, 'pagi': 1985, 'samsat': 1986, 'bulak': 1987, 'kapal': 1988, 'bekasi': 1989, 'membuka': 1990, 'berkualitas': 1991, 'drama': 1992, 'sepenuh': 1993, 'cika': 1994, 'servis': 1995, 'penggunaan': 1996, 'pengaduan': 1997, 'inovasi': 1998, 'admin': 1999, 'balasan': 2000, 'doi': 2001, 'mengadu': 2002, 'jejaring': 2003, 'aduan': 2004, 'posternya': 2005, 'terlayani': 2006, 'meluncurkan': 2007, 'kapanpun': 2008, 'nomornya': 2009, 'poster': 2010, 'usahanya': 2011, 'pertentangan': 2012, 'ketenangan': 2013, 'berisi': 2014, 'positifnya': 2015, 'sambil': 2016, 'titid': 2017, 'ketinggian': 2018, 'ngaco': 2019, 'asabri': 2020, 'ksp': 2021, 'wapres': 2022, 'akurat': 2023, 'ngemis': 2024, 'm': 2025, 'ibnu': 2026, 'hassan': 2027, 'kontroversial': 2028, 'sebagainya': 2029, 'properti': 2030, 'duitkan': 2031, 'melimpah': 2032, 'menyelenggarakan': 2033, 'benarkah': 2034, 'menomorsatukan': 2035, 'kepotong': 2036, 'juntrungannya': 2037, 'nuntut': 2038, 'dinomor': 2039, 'duakan': 2040, 'morat': 2041, 'marit': 2042, 'rada': 2043, 'asalnya': 2044, 'dilapangan': 2045, 'kepres': 2046, 'bonus': 2047, 'diduitkan': 2048, 'pungut': 2049, 'kandungan': 2050, 'kembangan': 2051, 'pahit': 2052, 'boneka': 2053, 'perampok': 2054, 'nyengir': 2055, 'ujur': 2056, 'nikmatin': 2057, 'dipertahankan': 2058, 'meragukan': 2059, 'btn': 2060, 'memecat': 2061, 'bunga': 2062, 'menjadiobjek': 2063, 'minimal': 2064, 'pabrik': 2065, 'sumbangsihnya': 2066, 'ngerusak': 2067, 'terpakai': 2068, 'fasilitasi': 2069, 'gas': 2070, 'dikangkangi': 2071, 'cicilan': 2072, 'alfian': 2073, 'mudahkan': 2074, 'indahnya': 2075, 'wakanda': 2076, 'keringat': 2077, 'disunat': 2078, 'dihimpit': 2079, 'embat': 2080, 'pemeras': 2081, 'temukan': 2082, 'urusin': 2083, 'perut': 2084, 'kenyang': 2085, 'pelayanannya': 2086, 'permisi': 2087, 'memulai': 2088, 'produktif': 2089, 'kelayakan': 2090, 'hakikat': 2091, 'ujian': 2092, 'rumahkan': 2093, 'ebt': 2094, 'korporasi': 2095, 'kabel': 2096, 'puncak': 2097, 'cadangan': 2098, 'energi': 2099, 'fosil': 2100, 'lapor': 2101, 'membongkarnya': 2102, 'pdam': 2103, 'tumpang': 2104, 'tindih': 2105, 'hubungi': 2106, 'langganan': 2107, 'dipinjam': 2108, 'anjir': 2109, 'lemes': 2110, 'manual': 2111, 'september': 2112, 'indikatornya': 2113, 'pensiunan': 2114, 'kalah': 2115, 'komplek': 2116, 'infografis': 2117, 'berhentiline': 2118, 'begituan': 2119, 'tahunan': 2120, 'kebersamaan': 2121, 'dikira': 2122, 'kejar': 2123, 'dp': 2124, 'irisan': 2125, 'tarik': 2126, 'sepenting': 2127, 'ditambahi': 2128, 'aksen': 2129, 'agustus': 2130, 'blokir': 2131, 'becus': 2132, 'manfaaatnya': 2133, 'lari': 2134, 'berbelitnya': 2135, 'naudzubillah': 2136, 'malahan': 2137, 'cairkan': 2138, 'terakhir': 2139, 'tersedia': 2140, 'mantap': 2141, 'pembagian': 2142, 'sumpah': 2143, 'kesampingkan': 2144, 'wei': 2145, 'diajarkan': 2146, 'agama': 2147, 'alesannya': 2148, 'tenagakerjaan': 2149, 'perpaduan': 2150, 'mendapati': 2151, 'mensayap': 2152, 'sasaran': 2153, 'imf': 2154, 'diskon': 2155, 'beras': 2156, 'memikul': 2157, 'dibikinin': 2158, 'latar': 2159, 'belakangnya': 2160, 'resikonya': 2161, 'ape': 2162, 'bang': 2163, 'lainmuncul': 2164, 'deposit': 2165, 'perbankan': 2166, 'lainribet': 2167, 'perlambat': 2168, 'pemeriksaannya': 2169, 'pemadaman': 2170, 'gejala': 2171, 'goblokannya': 2172, 'berkurang': 2173, 'rewel': 2174, 'pegat': 2175, 'mematikan': 2176, 'ekstrim': 2177, 'minerba': 2178, 'celaka': 2179, 'bmm': 2180, 'pitera': 2181, 'penjilat': 2182, 'kecatut': 2183, 'jancuk': 2184, 'cuy': 2185, 'terhitung': 2186, 'lainmasih': 2187, 'mutlak': 2188, 'ngurusi': 2189, 'absen': 2190, 'lainabis': 2191, 'penghisap': 2192, 'tobat': 2193, 'bebankan': 2194, 'dikitator': 2195, 'ganteng': 2196, 'dipungut': 2197, 'ternak': 2198, 'tanaman': 2199, 'biara': 2200, 'kopi': 2201, 'gelas': 2202, 'plastik': 2203, 'ember': 2204, 'peruntukkannya': 2205, 'ditujukan': 2206, 'bermain': 2207, 'menyedot': 2208, 'sarana': 2209, 'gajiku': 2210, 'kecilnya': 2211, 'korona': 2212, 'keluyuran': 2213, 'penyakitan': 2214, 'haryanah': 2215, 'kemoterapi': 2216, 'sahabat': 2217, 'teken': 2218, 'potensial': 2219, 'salurkan': 2220, 'kuliah': 2221, 'meroket': 2222, 'makamur': 2223, 'pot': 2224, 'kolom': 2225, 'gimik': 2226, 'ibukota': 2227, 'sokan': 2228, 'taspen': 2229, 'ketenegakerjaan': 2230, 'lainpaham': 2231, 'kepemilikan': 2232, 'dituntut': 2233, 'milyar': 2234, 'spiritnya': 2235, 'diterapin': 2236, 'implementasinya': 2237, 'kejadian': 2238, 'tertentu': 2239, 'and': 2240, 'kesel': 2241, 'berbicara': 2242, 'individu': 2243, 'berlepas': 2244, 'menyangkal': 2245, 'hunian': 2246, 'rehab': 2247, 'peminjam': 2248, 'bae': 2249, 'perpu': 2250, 'ramein': 2251, 'pantau': 2252, 'detail': 2253, 'min': 2254, 'digabungin': 2255, 'diusulkan': 2256, 'basis': 2257, 'terpadu': 2258, 'tah': 2259, 'ribuan': 2260, 'menandatangani': 2261, 'petisi': 2262, 'bamsoet': 2263, 'panggilan': 2264, 'akrabnya': 2265, 'mendorong': 2266, 'memantau': 2267, 'seluruhnya': 2268, 'ngitung': 2269, 'jp': 2270, 'bertambahin': 2271, 'rika': 2272, 'cipta': 2273, 'pdi': 2274, 'tercinta': 2275, 'pungutan': 2276, 'taper': 2277, 'kartunya': 2278, 'berskala': 2279, 'internasional': 2280, 'dilebur': 2281, 'side': 2282, 'job': 2283, 'seret': 2284, 'macet': 2285, 'lumpuh': 2286, 'larangan': 2287, 'berkumpul': 2288, 'area': 2289, 'publik': 2290, 'minimnya': 2291, 'skala': 2292, 'global': 2293, 'fpgh': 2294, 'jatuhnya': 2295, 'andalan': 2296, 'lulumayan': 2297, 'saldo': 2298, 'ketabung': 2299, 'ortopedi': 2300, 'surabaya': 2301, 'wa': 2302, 'telfon': 2303, 'csnya': 2304, 'dikonfirmasi': 2305, 'dichat': 2306, 'cobaan': 2307, 'asam': 2308, 'autodebit': 2309, 'ngelampirkan': 2310, 'atm': 2311, 'ngisi': 2312, 'formulir': 2313, 'setau': 2314, 'rasio': 2315, 'ideologi': 2316, 'statistik': 2317, 'kurir': 2318, 'logistik': 2319, 'tanyakan': 2320, 'kerjanya': 2321, 'mengantarkan': 2322, 'jalanan': 2323, 'penyakitnya': 2324, 'soko': 2325, 'kendala': 2326, 'dihujat': 2327, 'pandai': 2328, 'hadeuh': 2329, 'kesimpulannya': 2330, 'mempersiapkan': 2331, 'ayolah': 2332, 'membaca': 2333, 'twit': 2334, 'tanggap': 2335, 'konfirmasi': 2336, 'terbebani': 2337, 'syukurlah': 2338, 'dapetin': 2339, 'untungan': 2340, 'sanak': 2341, 'kerabat': 2342, 'disediakannya': 2343, 'menyambung': 2344, 'meriang': 2345, 'batuk': 2346, 'flu': 2347, 'beruntunglah': 2348, 'darahnya': 2349, 'meminum': 2350, 'seumur': 2351, 'tertanda': 2352, 'anakamu': 2353, 'ngebantu': 2354, 'berturut': 2355, 'perantara': 2356, 'jawabnya': 2357, 'ketegangan': 2358, 'benernya': 2359, 'ngeluarin': 2360, 'untungnya': 2361, 'nganggur': 2362, 'ngepet': 2363, 'ketolong': 2364, 'sma': 2365, 'op': 2366, 'ranap': 2367, 'ruang': 2368, 'rupiah': 2369, 'lansia': 2370, 'betapa': 2371, 'esehatan': 2372, 'teramat': 2373, 'tiada': 2374, 'henti': 2375, 'terucap': 2376, 'bibir': 2377, 'made': 2378, 'ucapkan': 2379, 'tweeps': 2380, 'bali': 2381, 'besyukur': 2382, 'wati': 2383, 'sampaik': 2384, 'ikutin': 2385, 'dipungkiri': 2386, 'relatif': 2387, 'dialami': 2388, 'tetangga': 2389, 'obrolan': 2390, 'mpo': 2391, 'diketahui': 2392, 'dituturkan': 2393, 'dimasa': 2394, 'mantul': 2395, 'halangan': 2396, 'ipar': 2397, 'perempuan': 2398, 'dengernya': 2399, 'lekas': 2400, 'untunglah': 2401, 'hambatan': 2402, 'saiful': 2403, 'pengobatannya': 2404, 'kesaksian': 2405, 'tugas': 2406, 'curhatan': 2407, 'membangun': 2408, 'sableng': 2409, 'ajarin': 2410, 'wujud': 2411, 'nangis': 2412, 'halo': 2413, 'gerd': 2414, 'bermoral': 2415, 'petinggi': 2416, 'mengatur': 2417, 'caplok': 2418, 'freeport': 2419, 'jaminannya': 2420, 'gampan': 2421, 'saldonya': 2422, 'ngejar': 2423, 'titipan': 2424, 'reda': 2425, 'bergantung': 2426, 'ngurusinnya': 2427, 'cukainya': 2428, 'sembari': 2429, 'beramal': 2430, 'berenergi': 2431, 'melenggang': 2432, 'merangkak': 2433, 'bergejolak': 2434, 'segalanya': 2435, 'kalimat': 2436, 'buktinya': 2437, 'bosen': 2438, 'ngadepin': 2439, 'serius': 2440, 'menggampangkan': 2441, 'nyesel': 2442, 'green': 2443, 'cardbya': 2444, 'keliatannya': 2445, 'gonjreng': 2446, 'propagandanya': 2447, 'sejajar': 2448, 'menyumbang': 2449, 'cacat': 2450, 'terbilang': 2451, 'serial': 2452, 'new': 2453, 'amsterdam': 2454, 'diceritain': 2455, 'jeleknya': 2456, 'bete': 2457, 'produk': 2458, 'permasalahin': 2459, 'melulu': 2460, 'duitan': 2461, 'ngeberatin': 2462, 'transformasi': 2463, 'radikal': 2464, 'startup': 2465, 'pembenahan': 2466, 'membayangi': 2467, 'tatanan': 2468, 'atasi': 2469, 'mengecewakan': 2470, 'koordinasi': 2471, 'kejadiannya': 2472, 'keguguran': 2473, 'sesar': 2474, 'handayani': 2475, 'disusahin': 2476, 'contohlah': 2477, 'dzolim': 2478, 'mencekik': 2479, 'rakyatapiun': 2480, 'brutal': 2481, 'naiklah': 2482, 'bernama': 2483, 'sentralisasi': 2484, 'semestinya': 2485, 'kab': 2486, 'prov': 2487, 'rsup': 2488, 'cie': 2489, 'pencekik': 2490, 'oi': 2491, 'infrastruktur': 2492, 'modus': 2493, 'sesat': 2494, 'disisi': 2495, 'korbankan': 2496, 'olah': 2497, 'mengharapkan': 2498, 'dibikin': 2499, 'dikerjain': 2500, 'kabupaten': 2501, 'administrasi': 2502, 'adaptasi': 2503, 'revolusi': 2504, 'industri': 2505, 'mengada': 2506, 'jerman': 2507, 'sosialis': 2508, 'dateng': 2509, 'gelut': 2510, 'aia': 2511, 'financial': 2512, 'melanda': 2513, 'operasinya': 2514, 'gatot': 2515, 'bermodal': 2516, 'persalinan': 2517, 'nuduh': 2518, 'fitnah': 2519, 'nanya': 2520, 'diisi': 2521, 'nyusahin': 2522, 'berapapun': 2523, 'cederai': 2524, 'geruduk': 2525, 'berpihak': 2526, 'ketauan': 2527, 'memainkan': 2528, 'dihitung': 2529, 'sebanding': 2530, 'jik': 2531, 'distancing': 2532, 'loloskan': 2533, 'diurus': 2534, 'belakang': 2535, 'fatmawati': 2536, 'inikan': 2537, 'sejenisnya': 2538, 'pasung': 2539, 'mengkhayal': 2540, 'alokasi': 2541, 'diproyeksikan': 2542, 'trilyun': 2543, 'mengundurkan': 2544, 'mengapa': 2545, 'merenggut': 2546, 'diabaikan': 2547, 'ruangan': 2548, 'berperasaan': 2549, 'tergambar': 2550, 'aslinya': 2551, 'insentifnya': 2552, 'perhatikan': 2553, 'jernih': 2554, 'tendensius': 2555, 'korelasi': 2556, 'budget': 2557, 'coy': 2558, 'timpang': 2559, 'sakaratul': 2560, 'maut': 2561, 'kebesaran': 2562, 'jatuhkan': 2563, 'marwah': 2564, 'dibiarkan': 2565, 'dibuatkan': 2566, 'stres': 2567, 'keberpihakan': 2568, 'tuna': 2569, 'dilanda': 2570, 'menderita': 2571, 'diprediksi': 2572, 'meluapkan': 2573, 'postingan': 2574, 'provokatif': 2575, 'harkit': 2576, 'pertengahan': 2577, 'didaftarkan': 2578, 'rasional': 2579, 'dilarang': 2580, 'temurun': 2581, 'mengurangi': 2582, 'utam': 2583, 'sekunder': 2584, 'teknologi': 2585, 'mengalahkan': 2586, 'tanda': 2587, 'kontribusi': 2588, 'sakitan': 2589, 'mahalnya': 2590, 'terganggu': 2591, 'keseluruhan': 2592, 'dimaklumi': 2593, 'rw': 2594, 'kecamatan': 2595, 'mencegah': 2596, 'sembarangan': 2597, 'berpindah': 2598, 'bulannya': 2599, 'diperlukan': 2600, 'memerlukan': 2601, 'itulah': 2602, 'terjadilah': 2603, 'donasi': 2604, 'istrinya': 2605, 'subsidinya': 2606, 'bawaan': 2607, 'diawasi': 2608, 'berjanji': 2609, 'kerjasama': 2610, 'edukasi': 2611, 'ditekankan': 2612, 'memungkinkan': 2613, 'subisidi': 2614, 'memahaminya': 2615, 'diisukan': 2616, 'semena': 2617, 'mena': 2618, 'didebatin': 2619, 'pemerintahanan': 2620, 'berikutnya': 2621, 'turunin': 2622, 'matang': 2623, 'sebaik': 2624, 'disikapi': 2625, 'tabel': 2626, 'mendukungnya': 2627, 'berkontribusi': 2628, 'dasarnya': 2629, 'terhambat': 2630, 'terbatas': 2631, 'limitnya': 2632, 'menghitung': 2633, 'lebaran': 2634, 'pekan': 2635, 'tuntaskan': 2636, 'perhari': 2637, 'kunjungan': 2638, 'semurah': 2639, 'mendaftar': 2640, 'fisioterapi': 2641, 'kebijaksanaan': 2642, 'berupaya': 2643, 'hadirnya': 2644, 'sepemikiran': 2645, 'lainasuransi': 2646, 'pahala': 2647, 'umk': 2648, 'syukuri': 2649, 'setorkan': 2650, 'baguslah': 2651, 'maklumi': 2652, 'gamblang': 2653, 'mempermasalahkan': 2654, 'penpatungan': 2655, 'gundah': 2656, 'gulana': 2657, 'elektroniknya': 2658, 'diskriminasi': 2659, 'paksakan': 2660, 'tolonglah': 2661, 'keeputusan': 2662, 'ngelanggar': 2663, 'maksimalkan': 2664, 'luncurkan': 2665, 'jurnalis': 2666, 'cholis': 2667, 'muria': 2668, 'news': 2669, 'luangkan': 2670, 'komplit': 2671, 'alur': 2672, 'selatan': 2673, 'medannya': 2674, 'utara': 2675, 'menembus': 2676, 'lebat': 2677, 'hai': 2678, 'panduannya': 2679, 'yukk': 2680, 'cuss': 2681, 'memanfaatkannya': 2682, 'cekidot': 2683, 'berformat': 2684, 'pdf': 2685, 'sedia': 2686, 'konsisten': 2687, 'mekanisme': 2688, 'kisah': 2689, 'selengkapnya': 2690, 'wacana': 2691, 'dinda': 2692, 'riset': 2693, 'janganlah': 2694, 'menyatakan': 2695, 'ranah': 2696, 'kewenangan': 2697, 'penanggung': 2698, 'pemeriksaan': 2699, 'dokternya': 2700, 'perdebatan': 2701, 'sekaran': 2702, 'sebentar': 2703, 'dimengerti': 2704, 'ditanya': 2705, 'cesar': 2706, 'jono': 2707, 'kakak': 2708, 'berdoanya': 2709, 'bebannya': 2710, 'ellys': 2711, 'kerhi': 2712, 'disyukuri': 2713, 'disetorkan': 2714, 'salut': 2715, 'mengisyaratkan': 2716, 'dukungannya': 2717, 'sejalan': 2718, 'yuks': 2719, 'putusannya': 2720, 'poinya': 2721, 'kedepan': 2722, 'pencerahan': 2723, 'mikirnya': 2724, 'kelanjutan': 2725, 'informasinya': 2726, 'bugar': 2727, 'riuh': 2728, 'ok': 2729, 'komik': 2730, 'hayo': 2731, 'terkenal': 2732, 'royongnya': 2733, 'minal': 2734, 'aidin': 2735, 'walfaidzin': 2736, 'batin': 2737, 'bagikan': 2738, 'seputar': 2739, 'insyaallah': 2740, 'berkah': 2741, 'keberlanjutannya': 2742, 'jutru': 2743, 'memperluas': 2744, 'yakinnya': 2745, 'disosialisasikan': 2746, 'sepahaman': 2747, 'terlampir': 2748, 'foto': 2749, 'kebetulan': 2750, 'mencerahkan': 2751, 'dicerna': 2752, 'sopo': 2753, 'rawatlah': 2754, 'seksama': 2755, 'aminn': 2756, 'semangatt': 2757, 'lanjutan': 2758, 'naikannya': 2759, 'beroperasional': 2760, 'tujuanya': 2761, 'memegang': 2762, 'alangkah': 2763, 'mengatasi': 2764, 'memprediksi': 2765, 'mengupayakan': 2766, 'suplemen': 2767, 'biarkan': 2768, 'sekiranya': 2769, 'memuaskan': 2770, 'signifikan': 2771, 'sayangkan': 2772, 'menurutnya': 2773, 'lunasi': 2774, 'tahap': 2775, 'pertimbangan': 2776, 'harian': 2777, 'moi': 2778, 'menunda': 2779, 'didapatkan': 2780, 'menko': 2781, 'fisik': 2782, 'dermawan': 2783, 'masyakarat': 2784, 'diikuti': 2785, 'segudang': 2786, 'diperhitungkan': 2787, 'menilainya': 2788, 'mengkalkulasi': 2789, 'juran': 2790, 'umumnya': 2791, 'respon': 2792, 'dilansir': 2793, 'mengaku': 2794, 'diribuntukan': 2795, 'biarin': 2796, 'ikhlasin': 2797, 'protesnya': 2798, 'vaksin': 2799, 'kt': 2800, 'arahkan': 2801, 'insha': 2802, 'memperhatikan': 2803, 'kelihatannya': 2804, 'memastikan': 2805, 'polis': 2806, 'cair': 2807, 'berbulan': 2808, 'dedel': 2809, 'streaming': 2810, 'zholim': 2811, 'pelaksanaan': 2812, 'pengawasan': 2813, 'menyadarkan': 2814, 'pejuang': 2815, 'kemo': 2816, 'radiasi': 2817, 'adminnya': 2818, 'nanyain': 2819, 'ridho': 2820, 'memahami': 2821, 'manakala': 2822, 'menyertakan': 2823, 'auditor': 2824, 'objektivitas': 2825, 'terbuka': 2826, 'bagaimanapun': 2827, 'cobalah': 2828, 'males': 2829, 'analisa': 2830, 'hr': 2831, 'iuranya': 2832, 'utas': 2833, 'prastow': 2834, 'ansuransi': 2835, 'pendapatannya': 2836, 'perorang': 2837, 'dijelasin': 2838, 'terusayang': 2839, 'hih': 2840, 'persoalan': 2841, 'kos': 2842, 'menyeluruh': 2843, 'internalnya': 2844, 'pengelolanya': 2845, 'perbanyak': 2846, 'aktuarist': 2847, 'canada': 2848, 'menawarkan': 2849, 'bersedia': 2850, 'berkelas': 2851, 'memandang': 2852, 'lindungilah': 2853, 'melanjuntukan': 2854, 'efeknya': 2855, 'dinikmati': 2856, 'beratus': 2857, 'usahakan': 2858, 'jasmani': 2859, 'rohanimu': 2860, 'kayaayanmu': 2861, 'sakitmu': 2862, 'selayaknya': 2863, 'konstitusinya': 2864, 'sedekah': 2865, 'rincian': 2866, 'k': 2867, 'takjub': 2868, 'kuadrat': 2869, 'struk': 2870, 'bru': 2871, 'manfaatny': 2872, 'berpikirlah': 2873, 'gituu': 2874, 'beruntung': 2875, 'sesuatu': 2876, 'valid': 2877, 'kebutuhannya': 2878, 'berkaitan': 2879, 'mbok': 2880, 'menyerang': 2881, 'berkenan': 2882, 'elo': 2883, 'ngerasain': 2884, 'kompleks': 2885, 'ngadain': 2886, 'konser': 2887, 'merengek': 2888, 'kemahal': 2889, 'munkin': 2890, 'usahain': 2891, 'cerdas': 2892, 'staf': 2893, 'gapunya': 2894, 'pelanyanan': 2895, 'dpn': 2896, 'retak': 2897, 'cash': 2898, 'melayang': 2899, 'tiruan': 2900, 'dirumah': 2901, 'control': 2902, 'gih': 2903, 'gong': 2904, 'allianz': 2905, 'manajerial': 2906, 'pemerataan': 2907, 'tambahin': 2908, 'pelengkap': 2909, 'putuskan': 2910, 'digratiskan': 2911, 'ngebela': 2912, 'klas': 2913, 'cita': 2914, 'pendiri': 2915, 'keberadaannya': 2916, 'menyadari': 2917, 'kebencian': 2918, 'prestasinya': 2919, 'temuan': 2920, 'bpkri': 2921, 'fair': 2922, 'apresiasi': 2923, 'miliaran': 2924, 'kapitasi': 2925, 'didasarkan': 2926, 'ganjar': 2927, 'dipuji': 2928, 'menanggapi': 2929, 'populer': 2930, 'kes': 2931, 'shok': 2932, 'tertera': 2933, 'provider': 2934, 'maruf': 2935, 'pandangan': 2936, 'bergembira': 2937, 'kenyamanannya': 2938, 'passport': 2939, 'terwujud': 2940, 'badung': 2941, 'shg': 2942, 'third': 2943, 'party': 2944, 'cost': 2945, 'berharga': 2946, 'antar': 2947, 'melainkan': 2948, 'lintas': 2949, 'bahu': 2950, 'membahu': 2951, 'belain': 2952, 'jaring': 2953, 'pengaman': 2954, 'yaaa': 2955, 'ir': 2956, 'soekarno': 2957, 'pondasi': 2958, 'kayauatan': 2959, 'adlah': 2960, 'menjiwai': 2961, 'sanubari': 2962, 'kayaurangannya': 2963, 'tanzania': 2964, 'nyambung': 2965, 'restaurant': 2966, 'struck': 2967, 'terkumpul': 2968, 'facilitates': 2969, 'nongkrong': 2970, 'disiplin': 2971, 'masyarakatnya': 2972, 'membatu': 2973, 'mardani': 2974, 'ali': 2975, 'sera': 2976, 'nyalahin': 2977, 'babeh': 2978, 'jek': 2979, 'bedul': 2980, 'bawa': 2981, 'hand': 2982, 'sanitizer': 2983, 'sabun': 2984, 'mengalir': 2985, 'allhamdulillah': 2986, 'adik': 2987, 'selmt': 2988, 'setlh': 2989, 'tumor': 2990, 'smoga': 2991, 'sellu': 2992, 'menaati': 2993, 'protokolnya': 2994, 'darimana': 2995, 'bersih': 2996, 'pendek': 2997, 'kunci': 2998, 'pndek': 2999, 'nysampai': 3000, 'tahunya': 3001, 'seprti': 3002, 'udunan': 3003, 'mkr': 3004, 'keadaanya': 3005, 'praktek': 3006, 'busuk': 3007, 'pengelompokan': 3008, 'watak': 3009, 'memaparkan': 3010, 'keterangannya': 3011, 'berlandaskan': 3012, 'ukuran': 3013, 'terlayaninya': 3014, 'merata': 3015, 'mewajibkan': 3016, 'mengikut': 3017, 'system': 3018, 'pembenaran': 3019, 'bp': 3020, 'kenyataannya': 3021, 'sebanyak': 3022, 'takjil': 3023, 'fisiotherapy': 3024, 'semalama': 3025, 'dimampukan': 3026, 'pemerintahu': 3027, 'pendaftarannya': 3028, 'terdekat': 3029, 'dites': 3030, 'suhu': 3031, 'moga': 3032, 'kualitasnya': 3033, 'dikhususkan': 3034, 'kebawah': 3035, 'single': 3036, 'sigap': 3037, 'percayalah': 3038, 'sudahlah': 3039, 'kaprah': 3040, 'ketas': 3041, 'masyarajat': 3042, 'mensayatkan': 3043, 'smga': 3044, 'berpendapat': 3045, 'menambal': 3046, 'mendaftarkan': 3047, 'keles': 3048, 'meriah': 3049, 'dicoba': 3050, 'mengajukan': 3051, 'dibayarin': 3052, 'dinsos': 3053, 'dewasa': 3054, 'didenger': 3055, 'plagi': 3056, 'ribut': 3057, 'riya': 3058, 'kouta': 3059, 'sekedar': 3060, 'dri': 3061, 'mertuaku': 3062, 'tiroid': 3063, 'katarak': 3064, 'minum': 3065, 'interaksi': 3066, 'gerakan': 3067, 'cegah': 3068, 'tantangan': 3069, 'temanya': 3070, 'tips': 3071, 'makanan': 3072, 'menyebut': 3073, 'tergabung': 3074, 'ix': 3075, 'berpeluang': 3076, 'paranoid': 3077, 'kategori': 3078, 'mengubah': 3079, 'bpks': 3080, 'y': 3081, 'mgunakannya': 3082, 'merapat': 3083, 'mengadakan': 3084, 'memperhitungkan': 3085, 'agus': 3086, 'ysudahoyono': 3087, 'desember': 3088, 'koordinator': 3089, 'perekonomian': 3090, 'hartarto': 3091, 'humas': 3092, 'abdullah': 3093, 'langkah': 3094, 'pendanaan': 3095, 'disinergikan': 3096, 'proposional': 3097, 'disimak': 3098, 'max': 3099, 'ka': 3100, 'pgn': 3101, 'tdnya': 3102, 'pruden': 3103, 'berpengaruh': 3104, 'rindu': 3105, 'geram': 3106, 'please': 3107, 'go': 3108, 'orangnya': 3109, 'pendendam': 3110, 'pos': 3111, 'ketenagakerjaanya': 3112, 'demen': 3113, 'mengalokasikan': 3114, 'dananya': 3115, 'kredit': 3116, 'hp': 3117, 'membiarkan': 3118, 'kucing': 3119, 'menjilati': 3120, 'sekelas': 3121, 'memotong': 3122, 'duh': 3123, 'gusti': 3124, 'enek': 3125, 'luwih': 3126, 'pinter': 3127, 'po': 3128, 'rakyatlah': 3129, 'menghidupi': 3130, 'nti': 3131, 'mengobati': 3132, 'hatinya': 3133, 'husnuzon': 3134, 'perkuat': 3135, 'kelupaan': 3136, 'terkedjoet': 3137, 'hitungan': 3138, 'menggelontorkan': 3139, 'disatu': 3140, 'bangat': 3141, 'it': 3142, 'feel': 3143, 'so': 3144, 'high': 3145, 'damage': 3146, 'meningkatnya': 3147, 'apk': 3148, 'april': 3149, 'bca': 3150, 'mbanking': 3151, 'tulisan': 3152, 'woy': 3153, 'bentar': 3154, 'tgl': 3155, 'juni': 3156, 'tar': 3157, 'tdl': 3158, 'government': 3159, 'terambyar': 3160, 'cuitan': 3161, 'tuan': 3162, 'tutupi': 3163, 'mencela': 3164, 'dki': 3165, 'ap': 3166, 'isa': 3167, 'dinaiki': 3168, 'presentase': 3169, 'miakin': 3170, 'politisi': 3171, 'gerindra': 3172, 'levelnya': 3173, 'keselamatannya': 3174, 'ditinggikan': 3175, 'sebulan': 3176, 'kelen': 3177, 'dongok': 3178, 'menyimpang': 3179, 'mengabaikan': 3180, 'kemakamuran': 3181, 'bebasin': 3182, 'koruptor': 3183, 'menjebloskan': 3184, 'ulama': 3185, 'suaramu': 3186, 'bacotmu': 3187, 'abnormal': 3188, 'berpengaruhkah': 3189, 'bergerak': 3190, 'memungut': 3191, 'sepeserpun': 3192, 'buktikan': 3193, 'jalankan': 3194, 'disumpal': 3195, 'kapital': 3196, 'persatuankah': 3197, 'nkri': 3198, 'disahkannya': 3199, 'rundang': 3200, 'hip': 3201, 'peluang': 3202, 'bangkitnya': 3203, 'pki': 3204, 'pedulikah': 3205, 'nyawa': 3206, 'sekaya': 3207, 'nafkah': 3208, 'fakir': 3209, 'pelihara': 3210, 'mingkem': 3211, 'wakil': 3212, 'pret': 3213, 'fleksibel': 3214, 'menyalurkan': 3215, 'asalkan': 3216, 'garda': 3217, 'terdepan': 3218, 'gebetan': 3219, 'ditikung': 3220, 'ups': 3221, 'direlakan': 3222, 'dikejar': 3223, 'siti': 3224, 'fadilah': 3225, 'supari': 3226, 'mengingatkan': 3227, 'astagfirullah': 3228, 'undangnya': 3229, 'amanah': 3230, 'gausahh': 3231, 'samsek': 3232, 'dialihin': 3233, 'gendut': 3234, 'diketok': 3235, 'palu': 3236, 'denger': 3237, 'kukunya': 3238, 'jarinya': 3239, 'perumpamaan': 3240, 'dianalogikan': 3241, 'kontrak': 3242, 'penyiar': 3243, 'liputan': 3244, 'musibah': 3245, 'hujan': 3246, 'longsor': 3247, 'ontime': 3248, 'bayarkan': 3249, 'runtuh': 3250, 'nulis': 3251, 'gaada': 3252, 'ngenes': 3253, 'teriris': 3254, 'dzalimnya': 3255, 'gonjang': 3256, 'ganjing': 3257, 'banyaknya': 3258, 'dilucuti': 3259, 'disamakan': 3260, 'angkutan': 3261, 'sepeda': 3262, 'iring': 3263, 'iringan': 3264, 'blh': 3265, 'piye': 3266, 'menanagi': 3267, 'gelontorkan': 3268, 'triliyun': 3269, 'herd': 3270, 'immunity': 3271, 'depopulasi': 3272, 'tuch': 3273, 'pemengaturan': 3274, 'liberalisasi': 3275, 'diperuntukan': 3276, 'berbalik': 3277, 'menindas': 3278, 'penegakan': 3279, 'kiwari': 3280, 'uji': 3281, 'judicial': 3282, 'review': 3283, 'sebelas': 3284, 'direvisi': 3285, 'menimbulkan': 3286, 'mustahil': 3287, 'kutukan': 3288, 'mempermainkan': 3289, 'didu': 3290, 'akun': 3291, 'twitter': 3292, 'penggaguran': 3293, 'jt': 3294, 'pemusnah': 3295, 'sepihak': 3296, 'peduliin': 3297, 'ngawur': 3298, 'perutnya': 3299, 'asbun': 3300, 'knalpot': 3301, 'nyaring': 3302, 'bunyinya': 3303, 'mengkritik': 3304, 'provokasi': 3305, 'nyuntik': 3306, 'semewah': 3307, 'berhentilah': 3308, 'click': 3309, 'bait': 3310, 'taik': 3311, 'ketegasan': 3312, 'diperpanjang': 3313, 'dijalan': 3314, 'padat': 3315, 'bandara': 3316, 'pasar': 3317, 'jadwal': 3318, 'cuti': 3319, 'mendadak': 3320, 'dijual': 3321, 'liberasisasi': 3322, 'dikuasai': 3323, 'dalih': 3324, 'angsuran': 3325, 'merah': 3326, 'putih': 3327, 'diajukan': 3328, 'komunitas': 3329, 'hajaar': 3330, 'tros': 3331, 'perass': 3332, 'kendor': 3333, 'surati': 3334, 'pemenuhan': 3335, 'keluarnya': 3336, 'cenderung': 3337, 'institusi': 3338, 'terang': 3339, 'terangan': 3340, 'membangkang': 3341, 'reformasi': 3342, 'staff': 3343, 'ansori': 3344, 'siregar': 3345, 'penggugat': 3346, 'sektoral': 3347, 'abadi': 3348, 'salahkan': 3349, 'perokok': 3350, 'karep': 3351, 'mulah': 3352, 'senangmu': 3353, 'puasno': 3354, 'kunu': 3355, 'diberhentikan': 3356, 'sertanya': 3357, 'didenda': 3358, 'diancam': 3359, 'celengan': 3360, 'sangsi': 3361, 'btw': 3362, 'menonaktifkan': 3363, 'judi': 3364, 'stfu': 3365, 'tumbang': 3366, 'amiiinnn': 3367, 'instansi': 3368, 'penjamin': 3369, 'rentenir': 3370, 'lintah': 3371, 'darat': 3372, 'rekanan': 3373, 'terbayar': 3374, 'profit': 3375, 'oriented': 3376, 'dirubah': 3377, 'layaknya': 3378, 'ugal': 3379, 'ugalan': 3380, 'kuasa': 3381, 'kpc': 3382, 'rusdianto': 3383, 'matulatuwa': 3384, 'tegakkan': 3385, 'sumpa': 3386, 'direndahkan': 3387, 'bobrok': 3388, 'dikata': 3389, 'pembantu': 3390, 'apalah': 3391, 'tarix': 3392, 'jabrix': 3393, 'kaaaang': 3394, 'sedihnya': 3395, 'bagusnya': 3396, 'dipaparkan': 3397, 'sejarawan': 3398, 'berkebangsaan': 3399, 'will': 3400, 'durant': 3401, 'al': 3402, 'manshuri': 3403, 'kairo': 3404, 'memunculkan': 3405, 'gelombang': 3406, 'diperburuk': 3407, 'sehatnya': 3408, 'cincong': 3409, 'titik': 3410, 'ngurang': 3411, 'pokonya': 3412, 'pikirin': 3413, 'kondusif': 3414, 'tangung': 3415, 'memberlakukan': 3416, 'delapann': 3417, 'termuat': 3418, 'melarat': 3419, 'berbed': 3420, 'baju': 3421, 'diserbu': 3422, 'menganalisa': 3423, 'behaviour': 3424, 'berhamburan': 3425, 'belinji': 3426, 'berkerumun': 3427, 'mengindahkan': 3428, 'cina': 3429, 'konsultan': 3430, 'ngikut': 3431, 'kelompok': 3432, 'hepi': 3433, 'situs': 3434, 'ngeyel': 3435, 'merintih': 3436, 'maki': 3437, 'waluh': 3438, 'godok': 3439, 'narapidana': 3440, 'dibebaskan': 3441, 'dimasukkan': 3442, 'diutamakan': 3443, 'minyak': 3444, 'pademi': 3445, 'berisik': 3446, 'bangke': 3447, 'dipungutlah': 3448, 'masal': 3449, 'ancamannya': 3450, 'sistematis': 3451, 'ngomongnya': 3452, 'kerumah': 3453, 'perlakuannya': 3454, 'gesit': 3455, 'butong': 3456, 'urusi': 3457, 'politisasi': 3458, 'huft': 3459, 'mempelajari': 3460, 'akad': 3461, 'transaksinya': 3462, 'keharaman': 3463, 'dikenal': 3464, 'ketidakjelasan': 3465, 'pemanfaat': 3466, 'hadiah': 3467, 'e': 3468, 'pet': 3469, 'pernyataan': 3470, 'gsbi': 3471, 'tuntut': 3472, 'demokrasi': 3473, 'mkan': 3474, 'gabisa': 3475, 'mentang': 3476, 'slalu': 3477, 'jaringan': 3478, 'bertarif': 3479, 'point': 3480, 'gmn': 3481, 'hyundai': 3482, 'tim': 3483, 'favorit': 3484, 'juara': 3485, 'ajang': 3486, 'wrc': 3487, 'produksi': 3488, 'penindas': 3489, 'melambung': 3490, 'membubarkan': 3491, 'mengembalikan': 3492, 'usaha': 3493, 'sbysudahoyono': 3494, 'ketimbang': 3495, 'iyo': 3496, 'bancakan': 3497, 'selesaikan': 3498, 'diperalat': 3499, 'keterangan': 3500, 'umroh': 3501, 'rapat': 3502, 'paripurna': 3503, 'miliyaran': 3504, 'unyuk': 3505, 'membahas': 3506, 'menjilat': 3507, 'biarkanlah': 3508, 'sehata': 3509, 'sontoloyo': 3510, 'gotongroyong': 3511, 'kedok': 3512, 'terlambat': 3513, 'jmn': 3514, 'junjungan': 3515, 'cocot': 3516, 'mampet': 3517, 'disesuaikan': 3518, 'butuhkan': 3519, 'prosedurnya': 3520, 'famili': 3521, 'lagii': 3522, 'ud': 3523, 'doa': 3524, 'dzikir': 3525, 'keberkahan': 3526, 'tontonan': 3527, 'sirkus': 3528, 'menghibur': 3529, 'muatanya': 3530, 'memengatur': 3531, 'konsideran': 3532, 'jenaka': 3533, 'core': 3534, 'kesejahteran': 3535, 'perindungan': 3536, 'dibilangnya': 3537, 'sebisa': 3538, 'dialihkan': 3539, 'didengar': 3540, 'larinya': 3541, 'tertib': 3542, 'bandingin': 3543, 'terkesan': 3544, 'cuk': 3545, 'utekamu': 3546, 'goblog': 3547, 'men': 3548, 'membiayain': 3549, 'seburuk': 3550, 'spog': 3551, 'nanganin': 3552, 'sub': 3553, 'spesialis': 3554, 'fetomaternal': 3555, 'bujang': 3556, 'bahagianya': 3557, 'all': 3558, 'owner': 3559, 'pelajaran': 3560, 'terpilih': 3561, 'gabung': 3562, 'seleksi': 3563, 'napa': 3564, 'ngajuin': 3565, 'rancang': 3566, 'nasibnya': 3567, 'cakupan': 3568, 'leukimia': 3569, 'tindas': 3570, 'obatnya': 3571, 'generik': 3572, 'laintapi': 3573, 'soale': 3574, 'pembelaan': 3575, 'membela': 3576, 'anjlok': 3577, 'wadah': 3578, 'jiahh': 3579, 'disalahgunakan': 3580, 'smi': 3581, 'mun': 3582, 'ngilu': 3583, 'kacida': 3584, 'weh': 3585, 'geusmah': 3586, 'teu': 3587, 'diturunkeun': 3588, 'janji': 3589, 'keur': 3590, 'nu': 3591, 'rek': 3592, 'ngabela': 3593, 'leutik': 3594, 'dahsyat': 3595, 'membenahi': 3596, 'telur': 3597, 'ayam': 3598, 'praktiknya': 3599, 'ndaftar': 3600, 'hehehehe': 3601, 'manajemennya': 3602, 'bernegara': 3603, 'berbangsa': 3604, 'mewah': 3605, 'menghisab': 3606, 'hbs': 3607, 'kelewatan': 3608, 'tingginya': 3609, 'optimalkan': 3610, 'tidur': 3611, 'kuari': 3612, 'menghasilkan': 3613, 'daripadanya': 3614, 'lokasi': 3615, 'mengurungkan': 3616, 'paru': 3617, 'merisaukan': 3618, 'menengahnya': 3619, 'rasionalisasi': 3620, 'ketutupan': 3621, 'isu': 3622, 'orok': 3623, 'pikirannya': 3624, 'dtg': 3625, 'model': 3626, 'mengikuti': 3627, 'murni': 3628, 'melebihi': 3629, 'dn': 3630, 'mengakibatkan': 3631, 'heh': 3632, 'ambisi': 3633, 'ulah': 3634, 'oknum': 3635, 'sebuntukan': 3636, 'jenis': 3637, 'menabung': 3638, 'nasabah': 3639, 'kepakai': 3640, 'sajak': 3641, 'ngrsin': 3642, 'klaimnya': 3643, 'diawal': 3644, 'kebuka': 3645, 'oon': 3646, 'komen': 3647, 'gaduh': 3648, 'dibolehkan': 3649, 'ditagih': 3650, 'debt': 3651, 'collector': 3652, 'marginal': 3653, 'bokaya': 3654, 'silahkan': 3655, 'letak': 3656, 'kajian': 3657, 'akar': 3658, 'inefisiensi': 3659, 'penyimpangan': 3660, 'fraud': 3661, 'dijawab': 3662, 'brengsek': 3663, 'maksa': 3664, 'manapun': 3665, 'ndro': 3666, 'sejahterakan': 3667, 'sialan': 3668, 'luh': 3669, 'emosinya': 3670, 'hemm': 3671, 'drun': 3672, 'ngook': 3673, 'jadiin': 3674, 'bumper': 3675, 'malas': 3676, 'ngetweet': 3677, 'kedunsayan': 3678, 'udin': 3679, 'syamsuddin': 3680, 'tuduh': 3681, 'berpotensi': 3682, 'kaum': 3683, 'togok': 3684, 'dibela': 3685, 'dibangga': 3686, 'banggakan': 3687, 'pimpinan': 3688, 'tamat': 3689, 'dapil': 3690, 'lugas': 3691, 'tajam': 3692, 'menyampaikan': 3693, 'haruskah': 3694, 'dewan': 3695, 'meng': 3696, 'amini': 3697, 'dalihnya': 3698, 'urgensi': 3699, 'menyanggah': 3700, 'rinci': 3701, 'tindakannya': 3702, 'memberantas': 3703, 'iyalah': 3704, 'buzze': 3705, 'tertulis': 3706, 'dok': 3707, 'huhu': 3708, 'ad': 3709, 'skm': 3710, 'jugaa': 3711, 'buahahaha': 3712, 'iyain': 3713, 'konteks': 3714, 'dy': 3715, 'hahaha': 3716, 'usil': 3717, 'menasehati': 3718, 'pale': 3719, 'circle': 3720, 'mashok': 3721, 'mengatasnamakan': 3722, 'poinnya': 3723, 'nyindir': 3724, 'dikambing': 3725, 'hitamkan': 3726, 'embel': 3727, 'hasyu': 3728, 'ngotak': 3729, 'dikit': 3730, 'dibagi': 3731, 'tok': 3732, 'cukai': 3733, 'gunung': 3734, 'bromo': 3735, 'pantesan': 3736, 'ketuanya': 3737, 'sucks': 3738, 'vangke': 3739, 'kader': 3740, 'lupis': 3741, 'koleksi': 3742, 'bini': 3743, 'muda': 3744, 'munafik': 3745, 'bangst': 3746, 'meras': 3747, 'menghadirkan': 3748, 'corong': 3749, 'naikpun': 3750, 'mui': 3751, 'dl': 3752, 'mbalelo': 3753, 'berbahaya': 3754, 'waspadalah': 3755, 'vvip': 3756, 'berempati': 3757, 'sedikitlah': 3758, 'menkeu': 3759, 'nyuruh': 3760, 'licik': 3761, 'servicing': 3762, 'perangkat': 3763, 'keramahan': 3764, 'benahi': 3765, 'bohong': 3766, 'negaranya': 3767, 'dibangun': 3768, 'pamornya': 3769, 'mengagungkan': 3770, 'tiadakan': 3771, 'auto': 3772, 'tadinya': 3773, 'ngebunuh': 3774, 'dajjal': 3775, 'dipenjara': 3776, 'muak': 3777, 'kasarnya': 3778, 'pekok': 3779, 'menandakan': 3780, 'pemutus': 3781, 'dimenangkan': 3782, 'pk': 3783, 'suk': 3784, 'bansos': 3785, 'gratiskan': 3786, 'naikkin': 3787, 'citra': 3788, 'wawasan': 3789, 'ralat': 3790, 'neh': 3791, 'mebel': 3792, 'dealer': 3793, 'pengamat': 3794, 'rocky': 3795, 'gerung': 3796, 'landasan': 3797, 'mengikat': 3798, 'kepemimpinan': 3799, 'musim': 3800, 'pemilihan': 3801, 'prudensial': 3802, 'ngobati': 3803, 'patungan': 3804, 'setruk': 3805, 'fraksi': 3806, 'pks': 3807, 'ngatain': 3808, 'tinggalkan': 3809, 'khalifah': 3810, 'umar': 3811, 'dibebani': 3812, 'sorotan': 3813, 'walikota': 3814, 'menganggap': 3815, 'bajingan': 3816, 'moderen': 3817, 'gandeng': 3818, 'meyakinkan': 3819, 'dimaksud': 3820, 'segenap': 3821, 'tumpah': 3822, 'mensejahterakan': 3823, 'hore': 3824, 'adakah': 3825, 'penyesalan': 3826, 'bong': 3827, 'pertontonkan': 3828, 'tabiat': 3829, 'terpuji': 3830, 'nganu': 3831, 'tundang': 3832, 'undanguh': 3833, 'apes': 3834, 'argumentasi': 3835, 'empot': 3836, 'empotan': 3837, 'hadeh': 3838, 'ngape': 3839, 'pnh': 3840, 'blagi': 3841, 'diskusi': 3842, 'bertentangan': 3843, 'pengadaan': 3844, 'memadai': 3845, 'uni': 3846, 'dikala': 3847, 'berkayauatan': 3848, 'jangankan': 3849, 'keanggotaannya': 3850, 'babi': 3851, 'sampah': 3852, 'aje': 3853, 'seharus': 3854, 'khulafaur': 3855, 'rasyidiin': 3856, 'zholiim': 3857, 'diduga': 3858, 'dicurigai': 3859, 'prosesor': 3860, 'capres': 3861, 'kabinet': 3862, 'kepingin': 3863, 'cepet': 3864, 'mogok': 3865, 'bernurani': 3866, 'terpuruk': 3867, 'laman': 3868, 'terdaftar': 3869, 'zolim': 3870, 'kayanya': 3871, 'segitunya': 3872, 'kampus': 3873, 'ukt': 3874, 'ironis': 3875, 'ogah': 3876, 'penggratisan': 3877, 'berzifat': 3878, 'berbentuk': 3879, 'kejebak': 3880, 'ngelapor': 3881, 'kk': 3882, 'nominalnya': 3883, 'jadikan': 3884, 'alat': 3885, 'dicicil': 3886, 'baper': 3887, 'derajat': 3888, 'hastagnya': 3889, 'kerap': 3890, 'nek': 3891, 'viralnya': 3892, 'influencer': 3893, 'ketinggalan': 3894, 'teruslah': 3895, 'berkarya': 3896, 'kebodohan': 3897, 'ketetapan': 3898, 'cuek': 3899, 'jengah': 3900, 'disekitaran': 3901, 'project': 3902, 'genah': 3903, 'dibodohin': 3904, 'bukunya': 3905, 'john': 3906, 'perkins': 3907, 'kmn': 3908, 'perginya': 3909, 'berkembang': 3910, 'alah': 3911, 'kampung': 3912, 'terbentuk': 3913, 'kemunculan': 3914, 'tangannya': 3915, 'blunder': 3916, 'sembunyi': 3917, 'diinjak': 3918, 'ngelawan': 3919, 'arogan': 3920, 'curiga': 3921, 'bahasa': 3922, 'scroll': 3923, 'tweetke': 3924, 'intermezzo': 3925, 'dilawan': 3926, 'komunis': 3927, 'perlakuan': 3928, 'blangsak': 3929, 'selisih': 3930, 'diambat': 3931, 'nyekik': 3932, 'naif': 3933, 'scr': 3934, 'membabi': 3935, 'menandakakan': 3936, 'pembiayaaan': 3937, 'negarannya': 3938, 'senayan': 3939, 'ngocok': 3940, 'tangga': 3941, 'ketakutan': 3942, 'murka': 3943, 'perbuat': 3944, 'penduduk': 3945, 'tersulit': 3946, 'perlawanan': 3947, 'farmasi': 3948, 'persatuan': 3949, 'limit': 3950, 'bedanya': 3951, 'ring': 3952, 'wani': 3953, 'seumpama': 3954, 'regulasi': 3955, 'dilaporkan': 3956, 'dinkes': 3957, 'invest': 3958, 'cuan': 3959, 'modal': 3960, 'buntung': 3961, 'kirain': 3962, 'lemot': 3963, 'malesin': 3964, 'curangin': 3965, 'disodorkan': 3966, 'oranganisasi': 3967, 'profesi': 3968, 'ajak': 3969, 'pembuatan': 3970, 'mengurus': 3971, 'diborong': 3972, 'taat': 3973, 'transparan': 3974, 'sudut': 3975, 'begimane': 3976, 'moneter': 3977, 'menghantui': 3978, 'hantu': 3979, 'elpiji': 3980, 'kg': 3981, 'jual': 3982, 'berotak': 3983, 'lowongan': 3984, 'rekrut': 3985, 'presidennya': 3986, 'kocak': 3987, 'lembaganya': 3988, 'an': 3989, 'tepati': 3990, 'janjinya': 3991, 'jurusnya': 3992, 'diketemukan': 3993, 'pemirsa': 3994, 'sabar': 3995, 'ohhh': 3996, 'kronologi': 3997, 'ambyar': 3998, 'diberlakukan': 3999, 'menggila': 4000, 'legal': 4001, 'dibuatlah': 4002, 'rayuan': 4003, 'pilpres': 4004, 'wilayah': 4005, 'mantera': 4006, 'tunjukkan': 4007, 'kesatriaan': 4008, 'menjunjung': 4009, 'menyejahterakan': 4010, 'pidana': 4011, 'dijalankan': 4012, 'alkes': 4013, 'diskriminatif': 4014, 'rese': 4015} \n",
      "\n"
     ]
    },
    {
     "data": {
      "text/plain": [
       "array([[  13,    4,    1,    2, 1977,  267,  123,  490,  137, 1978, 1375,\n",
       "           0,    0,    0,    0,    0,    0,    0,    0,    0,    0,    0,\n",
       "           0,    0,    0,    0,    0,    0,    0,    0,    0,    0,    0,\n",
       "           0,    0,    0,    0,    0,    0,    0],\n",
       "       [  26,    1,  384,  313,   28,    3,   55, 1076,  128, 1979, 1980,\n",
       "           0,    0,    0,    0,    0,    0,    0,    0,    0,    0,    0,\n",
       "           0,    0,    0,    0,    0,    0,    0,    0,    0,    0,    0,\n",
       "           0,    0,    0,    0,    0,    0,    0]])"
      ]
     },
     "execution_count": 8,
     "metadata": {},
     "output_type": "execute_result"
    }
   ],
   "source": [
    "#Tokenizing and change text to sequence\n",
    "\n",
    "max_features = 2000\n",
    "MAX_SEQUENCE_LENGTH = 40\n",
    "\n",
    "tokenizer = Tokenizer(num_words=max_features, split=' ')\n",
    "tokenizer.fit_on_texts(X)\n",
    "\n",
    "word_index = tokenizer.word_index\n",
    "print(\"Found %s unique tokens\" % len(word_index),'\\n')\n",
    "print(\"Index: \"+str(tokenizer.word_index),\"\\n\")\n",
    "\n",
    "X = tokenizer.texts_to_sequences(X)\n",
    "X = pad_sequences(X, maxlen=MAX_SEQUENCE_LENGTH, padding='post', truncating=\"post\")\n",
    "X[:2]"
   ]
  },
  {
   "cell_type": "code",
   "execution_count": 9,
   "metadata": {},
   "outputs": [
    {
     "name": "stderr",
     "output_type": "stream",
     "text": [
      "c:\\users\\legion\\appdata\\local\\programs\\python\\python36\\lib\\site-packages\\ipykernel_launcher.py:5: SettingWithCopyWarning: \n",
      "A value is trying to be set on a copy of a slice from a DataFrame\n",
      "\n",
      "See the caveats in the documentation: https://pandas.pydata.org/pandas-docs/stable/user_guide/indexing.html#returning-a-view-versus-a-copy\n",
      "  \"\"\"\n",
      "c:\\users\\legion\\appdata\\local\\programs\\python\\python36\\lib\\site-packages\\ipykernel_launcher.py:3: SettingWithCopyWarning: \n",
      "A value is trying to be set on a copy of a slice from a DataFrame\n",
      "\n",
      "See the caveats in the documentation: https://pandas.pydata.org/pandas-docs/stable/user_guide/indexing.html#returning-a-view-versus-a-copy\n",
      "  This is separate from the ipykernel package so we can avoid doing imports until\n"
     ]
    }
   ],
   "source": [
    "for i in range(len(Y)):\n",
    "    if Y[i] > 0:\n",
    "        Y[i] = 0\n",
    "    elif Y[i] < 1:\n",
    "        Y[i] = 1"
   ]
  },
  {
   "cell_type": "markdown",
   "metadata": {},
   "source": [
    "# Proses Word2Vec"
   ]
  },
  {
   "cell_type": "code",
   "execution_count": 10,
   "metadata": {},
   "outputs": [],
   "source": [
    "#melakukan load pretrained model Word2vec\n",
    "\n",
    "path = 'model_w2v_2020/wiki_word2vec_200.model'\n",
    "id_w2v = gensim.models.word2vec.Word2Vec.load(path)"
   ]
  },
  {
   "cell_type": "code",
   "execution_count": 11,
   "metadata": {
    "scrolled": true
   },
   "outputs": [
    {
     "data": {
      "text/plain": [
       "array([-0.85179156,  0.21285771, -0.46368226, -0.12542872,  0.09721096,\n",
       "       -0.47766712,  0.42107302, -1.417604  ,  0.26681903, -0.3382611 ,\n",
       "       -0.9808714 ,  0.21494778, -0.5568718 , -0.37187412,  0.13371605,\n",
       "       -1.2076612 , -0.41414753,  0.19788924, -0.2138239 ,  0.90335166,\n",
       "        1.4800103 ,  0.07834905,  0.82809466,  0.31991062,  1.4242681 ,\n",
       "       -0.38744095,  0.68355423, -1.2726876 ,  0.5926331 ,  0.23969094,\n",
       "        0.2447218 , -1.2048166 ,  1.3718443 ,  0.68316793, -0.1489076 ,\n",
       "       -1.0407698 , -0.5293673 , -0.41482022,  0.5099252 , -0.52627116,\n",
       "       -1.2854514 , -0.927989  ,  0.17454551, -0.15148786,  0.32160375,\n",
       "        0.06064845, -0.2958331 ,  0.13623616, -0.31428382,  0.3378392 ,\n",
       "       -0.4190037 ,  0.057619  , -1.2692558 ,  1.0588096 ,  0.43053296,\n",
       "       -0.30161652, -1.6586195 ,  0.0360985 ,  1.2302336 , -0.23498544,\n",
       "       -0.9558635 , -0.93132085,  0.05150696,  0.5096251 , -1.6698835 ,\n",
       "       -0.8501161 ,  0.96093947, -0.19683947,  0.04677571, -0.07287537,\n",
       "       -0.49039516,  1.1440059 ,  1.0036788 ,  0.857817  , -0.02228482,\n",
       "        0.35483605,  0.21391939, -0.34217042,  0.15365477,  0.02067159,\n",
       "        0.63726217,  0.20523278,  0.7051423 , -0.8339124 , -0.16148424,\n",
       "       -0.587816  , -0.04869036, -0.61968267, -0.8314164 ,  1.2237638 ,\n",
       "       -0.37537333,  0.7316636 , -0.01819304, -0.4612032 , -0.5418247 ,\n",
       "        0.5415302 , -0.48717687, -1.0075393 , -0.58442163, -0.11609555,\n",
       "       -0.5864633 ,  0.03581246, -0.28490487,  0.21118155,  0.22900942,\n",
       "        0.00931589,  0.18685836,  0.9973391 , -0.2720011 , -0.20310211,\n",
       "        1.884593  , -1.1799457 , -0.4590773 , -0.7781059 ,  0.06258563,\n",
       "        0.5287321 ,  0.02512106,  0.6930781 ,  0.38691896,  0.11683431,\n",
       "        1.2090546 , -0.1275487 ,  0.69286495, -0.944234  ,  1.2619541 ,\n",
       "       -1.2903663 , -0.15880677, -0.15707052, -0.23025832,  1.4993104 ,\n",
       "        0.24962054,  1.0732017 ,  0.24325871, -1.3183892 , -0.05783581,\n",
       "       -1.0605465 ,  0.8999098 , -0.31805095, -0.34511942, -0.10110813,\n",
       "        0.55070627,  0.5885455 , -0.6571251 ,  0.98511887, -0.602888  ,\n",
       "       -0.5572532 , -0.11703313, -0.45378438,  0.93351984, -0.13904107,\n",
       "        0.9284673 ,  0.6226516 ,  0.38194135,  1.2259697 ,  0.8156756 ,\n",
       "        0.13460936,  0.8439568 , -1.5373545 , -1.1867657 , -0.32538316,\n",
       "       -0.5302021 , -1.0857902 ,  0.06383571,  0.09724148, -1.147518  ,\n",
       "       -0.04532202,  0.77716225,  0.34797886,  1.0773724 ,  1.3175467 ,\n",
       "       -0.87652224, -0.04592633,  0.8792167 , -0.05897358, -0.03404946,\n",
       "        0.8809865 , -1.0091815 , -1.7012624 ,  0.279128  ,  1.4770703 ,\n",
       "        0.62185127,  0.06015939,  0.06910738,  0.17700836, -1.6995907 ,\n",
       "        0.85179454, -0.44710135, -0.5694573 , -0.46912634, -0.5386787 ,\n",
       "        0.67374957,  0.9182894 , -0.04713539,  0.5851448 , -0.6688004 ,\n",
       "        0.81749105, -0.86824405, -1.1882356 ,  0.92254317,  0.55684674],\n",
       "      dtype=float32)"
      ]
     },
     "execution_count": 11,
     "metadata": {},
     "output_type": "execute_result"
    }
   ],
   "source": [
    "id_w2v.wv['iuran']"
   ]
  },
  {
   "cell_type": "code",
   "execution_count": 12,
   "metadata": {},
   "outputs": [
    {
     "name": "stderr",
     "output_type": "stream",
     "text": [
      "c:\\users\\legion\\appdata\\local\\programs\\python\\python36\\lib\\site-packages\\ipykernel_launcher.py:1: DeprecationWarning: Call to deprecated `most_similar` (Method will be removed in 4.0.0, use self.wv.most_similar() instead).\n",
      "  \"\"\"Entry point for launching an IPython kernel.\n"
     ]
    },
    {
     "name": "stdout",
     "output_type": "stream",
     "text": [
      "[('dialah', 0.6764559745788574), ('merekalah', 0.6217396855354309), ('jugalah', 0.5585929155349731), ('siapakah', 0.5580617189407349), ('sendirilah', 0.5517390370368958), ('ternyata', 0.5482152104377747), ('sesungguhnya', 0.5178179740905762), ('ingin', 0.5128613710403442), ('tadinya', 0.5107486248016357), ('inilah', 0.5010721683502197)]\n"
     ]
    }
   ],
   "source": [
    "print(id_w2v.most_similar('lah'))"
   ]
  },
  {
   "cell_type": "code",
   "execution_count": 13,
   "metadata": {},
   "outputs": [],
   "source": [
    "#Menjadikan weight dari model Word2Vec\n",
    "\n",
    "w2v_weights = id_w2v.wv.vectors"
   ]
  },
  {
   "cell_type": "code",
   "execution_count": 14,
   "metadata": {},
   "outputs": [
    {
     "name": "stdout",
     "output_type": "stream",
     "text": [
      "Size Kamus: 375703 - Dimensi Embedding: 200\n"
     ]
    }
   ],
   "source": [
    "#Untuk mengetahui jumlah vocab dan dimensi embedding\n",
    "\n",
    "vocab_size, embedding_size = w2v_weights.shape\n",
    "print(\"Size Kamus: {} - Dimensi Embedding: {}\".format(vocab_size, embedding_size))"
   ]
  },
  {
   "cell_type": "markdown",
   "metadata": {},
   "source": [
    "# Proses Klasifikasi dengan LSTM"
   ]
  },
  {
   "cell_type": "code",
   "execution_count": 15,
   "metadata": {},
   "outputs": [
    {
     "name": "stdout",
     "output_type": "stream",
     "text": [
      "_________________________________________________________________\n",
      "Layer (type)                 Output Shape              Param #   \n",
      "=================================================================\n",
      "embedding (Embedding)        (None, 40, 200)           75140600  \n",
      "_________________________________________________________________\n",
      "lstm (LSTM)                  (None, 200)               320800    \n",
      "_________________________________________________________________\n",
      "dense (Dense)                (None, 1)                 201       \n",
      "=================================================================\n",
      "Total params: 75,461,601\n",
      "Trainable params: 321,001\n",
      "Non-trainable params: 75,140,600\n",
      "_________________________________________________________________\n",
      "None\n"
     ]
    }
   ],
   "source": [
    "model = Sequential()\n",
    "model.add(Embedding(vocab_size,\n",
    "                    embedding_size,\n",
    "                    weights=[w2v_weights],\n",
    "                    input_length=MAX_SEQUENCE_LENGTH,\n",
    "                    trainable=False))\n",
    "\n",
    "model.add(LSTM(embedding_size, dropout=0.2, recurrent_dropout=0.2))\n",
    "model.add(Dense(1,activation='sigmoid'))\n",
    "model.compile(loss = 'binary_crossentropy', optimizer=Adam(lr=0.001),metrics = ['accuracy'])\n",
    "print(model.summary())"
   ]
  },
  {
   "cell_type": "code",
   "execution_count": 16,
   "metadata": {},
   "outputs": [
    {
     "name": "stdout",
     "output_type": "stream",
     "text": [
      "(1330, 40) (1330,)\n",
      "(70, 40) (70,)\n"
     ]
    }
   ],
   "source": [
    "#Split dataset\n",
    "\n",
    "X_train, X_test, Y_train, Y_test = train_test_split(X,Y, test_size = 0.05, random_state = 0, stratify = Y)\n",
    "print(X_train.shape,Y_train.shape)\n",
    "print(X_test.shape,Y_test.shape)"
   ]
  },
  {
   "cell_type": "code",
   "execution_count": 17,
   "metadata": {
    "scrolled": true
   },
   "outputs": [
    {
     "name": "stdout",
     "output_type": "stream",
     "text": [
      "Train on 1330 samples, validate on 70 samples\n",
      "Epoch 1/50\n",
      "1330/1330 [==============================] - 8s 6ms/step - loss: 0.7047 - acc: 0.5090 - val_loss: 0.7013 - val_acc: 0.5000\n",
      "Epoch 2/50\n",
      "1330/1330 [==============================] - 6s 5ms/step - loss: 0.6801 - acc: 0.5602 - val_loss: 0.6703 - val_acc: 0.5286\n",
      "Epoch 3/50\n",
      "1330/1330 [==============================] - 7s 5ms/step - loss: 0.6148 - acc: 0.6812 - val_loss: 0.5566 - val_acc: 0.7429\n",
      "Epoch 4/50\n",
      "1330/1330 [==============================] - 6s 5ms/step - loss: 0.4935 - acc: 0.7782 - val_loss: 0.4991 - val_acc: 0.8143\n",
      "Epoch 5/50\n",
      "1330/1330 [==============================] - 6s 4ms/step - loss: 0.3992 - acc: 0.8293 - val_loss: 0.4620 - val_acc: 0.8143\n",
      "Epoch 6/50\n",
      "1330/1330 [==============================] - 6s 4ms/step - loss: 0.3241 - acc: 0.8684 - val_loss: 0.4751 - val_acc: 0.8143\n",
      "Epoch 7/50\n",
      "1330/1330 [==============================] - 6s 4ms/step - loss: 0.2842 - acc: 0.8925 - val_loss: 0.5026 - val_acc: 0.8429\n",
      "Epoch 8/50\n",
      "1330/1330 [==============================] - 6s 5ms/step - loss: 0.2492 - acc: 0.8977 - val_loss: 0.4688 - val_acc: 0.7714\n",
      "Epoch 9/50\n",
      "1330/1330 [==============================] - 6s 4ms/step - loss: 0.2047 - acc: 0.9143 - val_loss: 0.6183 - val_acc: 0.7714\n",
      "Epoch 10/50\n",
      "1330/1330 [==============================] - 7s 5ms/step - loss: 0.1960 - acc: 0.9173 - val_loss: 0.5833 - val_acc: 0.7571\n",
      "Epoch 11/50\n",
      "1330/1330 [==============================] - 6s 4ms/step - loss: 0.1280 - acc: 0.9579 - val_loss: 0.5965 - val_acc: 0.8429\n",
      "Epoch 12/50\n",
      "1330/1330 [==============================] - 6s 4ms/step - loss: 0.0997 - acc: 0.9594 - val_loss: 0.6794 - val_acc: 0.8143\n",
      "Epoch 13/50\n",
      "1330/1330 [==============================] - 5s 4ms/step - loss: 0.1272 - acc: 0.9526 - val_loss: 0.6856 - val_acc: 0.8000\n",
      "Epoch 14/50\n",
      "1330/1330 [==============================] - 6s 4ms/step - loss: 0.0718 - acc: 0.9782 - val_loss: 0.8796 - val_acc: 0.8143\n",
      "Epoch 15/50\n",
      "1330/1330 [==============================] - 6s 4ms/step - loss: 0.0800 - acc: 0.9722 - val_loss: 0.7590 - val_acc: 0.8286\n",
      "Epoch 16/50\n",
      "1330/1330 [==============================] - 6s 5ms/step - loss: 0.0610 - acc: 0.9827 - val_loss: 0.8873 - val_acc: 0.7714\n",
      "Epoch 17/50\n",
      "1330/1330 [==============================] - 6s 4ms/step - loss: 0.0473 - acc: 0.9842 - val_loss: 0.8402 - val_acc: 0.8286\n",
      "Epoch 18/50\n",
      "1330/1330 [==============================] - 6s 4ms/step - loss: 0.0415 - acc: 0.9850 - val_loss: 0.8859 - val_acc: 0.8143\n",
      "Epoch 19/50\n",
      "1330/1330 [==============================] - 5s 4ms/step - loss: 0.0623 - acc: 0.9797 - val_loss: 0.8122 - val_acc: 0.7571\n",
      "Epoch 20/50\n",
      "1330/1330 [==============================] - 5s 4ms/step - loss: 0.0566 - acc: 0.9789 - val_loss: 0.7658 - val_acc: 0.8429\n",
      "Epoch 21/50\n",
      "1330/1330 [==============================] - 5s 4ms/step - loss: 0.0435 - acc: 0.9850 - val_loss: 0.9193 - val_acc: 0.8000\n",
      "Epoch 22/50\n",
      "1330/1330 [==============================] - 5s 4ms/step - loss: 0.0545 - acc: 0.9797 - val_loss: 0.7882 - val_acc: 0.8286\n",
      "Epoch 23/50\n",
      "1330/1330 [==============================] - 5s 4ms/step - loss: 0.0280 - acc: 0.9917 - val_loss: 0.8767 - val_acc: 0.8429\n",
      "Epoch 24/50\n",
      "1330/1330 [==============================] - 5s 4ms/step - loss: 0.0367 - acc: 0.9842 - val_loss: 0.8586 - val_acc: 0.8143\n",
      "Epoch 25/50\n",
      "1330/1330 [==============================] - 5s 4ms/step - loss: 0.0248 - acc: 0.9910 - val_loss: 0.9120 - val_acc: 0.8571\n",
      "Epoch 26/50\n",
      "1330/1330 [==============================] - 5s 4ms/step - loss: 0.0377 - acc: 0.9865 - val_loss: 0.8459 - val_acc: 0.8286\n",
      "Epoch 27/50\n",
      "1330/1330 [==============================] - 5s 4ms/step - loss: 0.0159 - acc: 0.9962 - val_loss: 0.9809 - val_acc: 0.8286\n",
      "Epoch 28/50\n",
      "1330/1330 [==============================] - 5s 4ms/step - loss: 0.0284 - acc: 0.9895 - val_loss: 0.8771 - val_acc: 0.8429\n",
      "Epoch 29/50\n",
      "1330/1330 [==============================] - 6s 4ms/step - loss: 0.0289 - acc: 0.9887 - val_loss: 0.7943 - val_acc: 0.8000\n",
      "Epoch 30/50\n",
      "1330/1330 [==============================] - 6s 4ms/step - loss: 0.0475 - acc: 0.9835 - val_loss: 0.7682 - val_acc: 0.8429\n",
      "Epoch 31/50\n",
      "1330/1330 [==============================] - 5s 4ms/step - loss: 0.0342 - acc: 0.9895 - val_loss: 0.8968 - val_acc: 0.8143\n",
      "Epoch 32/50\n",
      "1330/1330 [==============================] - 5s 4ms/step - loss: 0.0246 - acc: 0.9947 - val_loss: 0.9349 - val_acc: 0.8286\n",
      "Epoch 33/50\n",
      "1330/1330 [==============================] - 5s 4ms/step - loss: 0.0178 - acc: 0.9970 - val_loss: 1.0298 - val_acc: 0.7857\n",
      "Epoch 34/50\n",
      "1330/1330 [==============================] - 5s 4ms/step - loss: 0.0100 - acc: 0.9985 - val_loss: 1.0354 - val_acc: 0.8429\n",
      "Epoch 35/50\n",
      "1330/1330 [==============================] - 5s 4ms/step - loss: 0.0180 - acc: 0.9940 - val_loss: 1.0625 - val_acc: 0.8286\n",
      "Epoch 36/50\n",
      "1330/1330 [==============================] - 5s 4ms/step - loss: 0.0179 - acc: 0.9940 - val_loss: 0.8545 - val_acc: 0.8571\n",
      "Epoch 37/50\n",
      "1330/1330 [==============================] - 5s 4ms/step - loss: 0.0079 - acc: 0.9977 - val_loss: 0.9287 - val_acc: 0.8429\n",
      "Epoch 38/50\n",
      "1330/1330 [==============================] - 5s 4ms/step - loss: 0.0158 - acc: 0.9962 - val_loss: 0.9420 - val_acc: 0.8286\n",
      "Epoch 39/50\n",
      "1330/1330 [==============================] - 5s 4ms/step - loss: 0.0153 - acc: 0.9970 - val_loss: 0.9149 - val_acc: 0.8571\n",
      "Epoch 40/50\n",
      "1330/1330 [==============================] - 5s 4ms/step - loss: 0.0065 - acc: 0.9985 - val_loss: 1.0506 - val_acc: 0.8286\n",
      "Epoch 41/50\n",
      "1330/1330 [==============================] - 5s 4ms/step - loss: 0.0218 - acc: 0.9932 - val_loss: 0.9672 - val_acc: 0.8143\n",
      "Epoch 42/50\n",
      "1330/1330 [==============================] - 5s 4ms/step - loss: 0.0359 - acc: 0.9857 - val_loss: 0.8861 - val_acc: 0.8286\n",
      "Epoch 43/50\n",
      "1330/1330 [==============================] - 5s 4ms/step - loss: 0.0163 - acc: 0.9947 - val_loss: 0.9016 - val_acc: 0.8429\n",
      "Epoch 44/50\n",
      "1330/1330 [==============================] - 5s 4ms/step - loss: 0.0107 - acc: 0.9977 - val_loss: 0.9495 - val_acc: 0.8286\n",
      "Epoch 45/50\n",
      "1330/1330 [==============================] - 5s 4ms/step - loss: 0.0242 - acc: 0.9925 - val_loss: 0.8417 - val_acc: 0.8429\n",
      "Epoch 46/50\n",
      "1330/1330 [==============================] - 5s 4ms/step - loss: 0.0074 - acc: 0.9977 - val_loss: 1.0047 - val_acc: 0.8429\n",
      "Epoch 47/50\n",
      "1330/1330 [==============================] - 5s 4ms/step - loss: 0.0070 - acc: 0.9985 - val_loss: 1.0324 - val_acc: 0.8286\n",
      "Epoch 48/50\n",
      "1330/1330 [==============================] - 5s 4ms/step - loss: 0.0175 - acc: 0.9955 - val_loss: 0.8827 - val_acc: 0.8429\n",
      "Epoch 49/50\n",
      "1330/1330 [==============================] - 5s 4ms/step - loss: 0.0123 - acc: 0.9970 - val_loss: 0.8665 - val_acc: 0.8571\n",
      "Epoch 50/50\n",
      "1330/1330 [==============================] - 5s 4ms/step - loss: 0.0091 - acc: 0.9977 - val_loss: 1.0929 - val_acc: 0.8429\n"
     ]
    }
   ],
   "source": [
    "#Proses Training\n",
    "\n",
    "batch_size = 32\n",
    "history = model.fit(X_train, Y_train, epochs=50, validation_data=(X_test, Y_test), verbose = 1)"
   ]
  },
  {
   "cell_type": "code",
   "execution_count": 18,
   "metadata": {},
   "outputs": [],
   "source": [
    "#Process Predict\n",
    "Y_pred = model.predict_classes(X_test)"
   ]
  },
  {
   "cell_type": "code",
   "execution_count": 19,
   "metadata": {},
   "outputs": [
    {
     "name": "stdout",
     "output_type": "stream",
     "text": [
      "confusion matrix [[27  8]\n",
      " [ 3 32]]\n",
      "               precision    recall  f1-score   support\n",
      "\n",
      "class negatif       0.90      0.77      0.83        35\n",
      "class positif       0.80      0.91      0.85        35\n",
      "\n",
      "     accuracy                           0.84        70\n",
      "    macro avg       0.85      0.84      0.84        70\n",
      " weighted avg       0.85      0.84      0.84        70\n",
      "\n"
     ]
    }
   ],
   "source": [
    "#Evaluasi Performansi\n",
    "\n",
    "target_names = ['class negatif', 'class positif']\n",
    "print(\"confusion matrix\",confusion_matrix(Y_test, Y_pred))\n",
    "print(classification_report(Y_test, Y_pred, target_names=target_names))"
   ]
  },
  {
   "cell_type": "markdown",
   "metadata": {},
   "source": [
    "#Evaluasi Performansi\n",
    "\n",
    "df_test = pd.DataFrame({'true' : Y_test.tolist(), 'pred':Y_pred})\n",
    "df_test['true'] = df_test['true'].apply(lambda x: np.argmax(x))\n",
    "target_names = ['class negatif', 'class positif']\n",
    "print(\"confusion matrix\",confusion_matrix(df_test.true, df_test.pred))\n",
    "print(classification_report(df_test.true, df_test.pred, target_names=target_names))"
   ]
  },
  {
   "cell_type": "code",
   "execution_count": 20,
   "metadata": {
    "scrolled": true
   },
   "outputs": [
    {
     "data": {
      "text/plain": [
       "84.28571428571429"
      ]
     },
     "execution_count": 20,
     "metadata": {},
     "output_type": "execute_result"
    }
   ],
   "source": [
    "# Accuracy\n",
    "from sklearn.metrics import accuracy_score\n",
    "accuracy_score(Y_test, Y_pred)*100"
   ]
  },
  {
   "cell_type": "code",
   "execution_count": 21,
   "metadata": {},
   "outputs": [
    {
     "data": {
      "text/plain": [
       "array([0.9, 0.8])"
      ]
     },
     "execution_count": 21,
     "metadata": {},
     "output_type": "execute_result"
    }
   ],
   "source": [
    "# Precision\n",
    "from sklearn.metrics import precision_score\n",
    "precision_score(Y_test, Y_pred, average=None)"
   ]
  },
  {
   "cell_type": "code",
   "execution_count": 22,
   "metadata": {},
   "outputs": [
    {
     "data": {
      "text/plain": [
       "array([0.77142857, 0.91428571])"
      ]
     },
     "execution_count": 22,
     "metadata": {},
     "output_type": "execute_result"
    }
   ],
   "source": [
    "# Recall\n",
    "from sklearn.metrics import recall_score\n",
    "recall_score(Y_test, Y_pred, average=None)"
   ]
  },
  {
   "cell_type": "code",
   "execution_count": 23,
   "metadata": {},
   "outputs": [
    {
     "data": {
      "text/plain": [
       "array([0.83076923, 0.85333333])"
      ]
     },
     "execution_count": 23,
     "metadata": {},
     "output_type": "execute_result"
    }
   ],
   "source": [
    "# F1 score\n",
    "from sklearn.metrics import f1_score\n",
    "f1_score(Y_test, Y_pred, average=None)"
   ]
  },
  {
   "cell_type": "markdown",
   "metadata": {},
   "source": [
    "model.save(\"E:\\TA\\web\\Benda TA\\model5.h5\")\n",
    "print('Save model to Disk')"
   ]
  },
  {
   "cell_type": "markdown",
   "metadata": {},
   "source": [
    "from keras.models import load_model\n",
    "model = load_model('model.h5')"
   ]
  },
  {
   "cell_type": "markdown",
   "metadata": {},
   "source": [
    "# Test Menggunakan Data Uji"
   ]
  },
  {
   "cell_type": "code",
   "execution_count": 24,
   "metadata": {},
   "outputs": [
    {
     "data": {
      "text/html": [
       "<div>\n",
       "<style scoped>\n",
       "    .dataframe tbody tr th:only-of-type {\n",
       "        vertical-align: middle;\n",
       "    }\n",
       "\n",
       "    .dataframe tbody tr th {\n",
       "        vertical-align: top;\n",
       "    }\n",
       "\n",
       "    .dataframe thead th {\n",
       "        text-align: right;\n",
       "    }\n",
       "</style>\n",
       "<table border=\"1\" class=\"dataframe\">\n",
       "  <thead>\n",
       "    <tr style=\"text-align: right;\">\n",
       "      <th></th>\n",
       "      <th>Text</th>\n",
       "    </tr>\n",
       "  </thead>\n",
       "  <tbody>\n",
       "    <tr>\n",
       "      <th>0</th>\n",
       "      <td>https://majalah.tempo.co/read/investigasi/1606...</td>\n",
       "    </tr>\n",
       "    <tr>\n",
       "      <th>1</th>\n",
       "      <td>\"Direktur Utama BPJS: Ada Fraud Tapi Kecil\" #B...</td>\n",
       "    </tr>\n",
       "    <tr>\n",
       "      <th>2</th>\n",
       "      <td>https://majalah.tempo.co/read/investigasi/1606...</td>\n",
       "    </tr>\n",
       "    <tr>\n",
       "      <th>3</th>\n",
       "      <td>Direktur Utama BPJS: Ada Fraud tapi Kecil #BPJ...</td>\n",
       "    </tr>\n",
       "    <tr>\n",
       "      <th>4</th>\n",
       "      <td>https://majalah.tempo.co/read/investigasi/1606...</td>\n",
       "    </tr>\n",
       "  </tbody>\n",
       "</table>\n",
       "</div>"
      ],
      "text/plain": [
       "                                                Text\n",
       "0  https://majalah.tempo.co/read/investigasi/1606...\n",
       "1  \"Direktur Utama BPJS: Ada Fraud Tapi Kecil\" #B...\n",
       "2  https://majalah.tempo.co/read/investigasi/1606...\n",
       "3  Direktur Utama BPJS: Ada Fraud tapi Kecil #BPJ...\n",
       "4  https://majalah.tempo.co/read/investigasi/1606..."
      ]
     },
     "execution_count": 24,
     "metadata": {},
     "output_type": "execute_result"
    }
   ],
   "source": [
    "#Membaca data uji\n",
    "du = pd.read_csv('Data_uji.csv', usecols=[\"Text\"])\n",
    "du.head()"
   ]
  },
  {
   "cell_type": "code",
   "execution_count": 25,
   "metadata": {},
   "outputs": [],
   "source": [
    "#Preprocessing\n",
    "du['Text'] = du['Text'].apply(lambda x: preprocess_text(x))"
   ]
  },
  {
   "cell_type": "code",
   "execution_count": 26,
   "metadata": {},
   "outputs": [],
   "source": [
    "#Mengubah menjadi sequence\n",
    "\n",
    "tokenizer.fit_on_texts(du[\"Text\"].values)\n",
    "tokens = tokenizer.texts_to_sequences(du[\"Text\"].values)\n",
    "tokens = pad_sequences(tokens, maxlen=MAX_SEQUENCE_LENGTH)"
   ]
  },
  {
   "cell_type": "code",
   "execution_count": 27,
   "metadata": {},
   "outputs": [],
   "source": [
    "#Membuat prediksi\n",
    "y_pred = model.predict_proba(tokens)"
   ]
  },
  {
   "cell_type": "code",
   "execution_count": 28,
   "metadata": {},
   "outputs": [],
   "source": [
    "#Proses Membuat label Prediksi\n",
    "\n",
    "labels = [1, 0]\n",
    "\n",
    "prediction_labels=[]\n",
    "for p in y_pred:\n",
    "    prediction_labels.append(labels[np.argmax(p)])"
   ]
  },
  {
   "cell_type": "code",
   "execution_count": 29,
   "metadata": {},
   "outputs": [
    {
     "data": {
      "text/plain": [
       "0"
      ]
     },
     "execution_count": 29,
     "metadata": {},
     "output_type": "execute_result"
    }
   ],
   "source": [
    "#Menghitung hasil prediksi dengan label 0\n",
    "\n",
    "x = prediction_labels.count(0)\n",
    "x"
   ]
  },
  {
   "cell_type": "code",
   "execution_count": 30,
   "metadata": {},
   "outputs": [
    {
     "data": {
      "text/plain": [
       "1000"
      ]
     },
     "execution_count": 30,
     "metadata": {},
     "output_type": "execute_result"
    }
   ],
   "source": [
    "#Menghitung hasil prediksi dengan label 1\n",
    "\n",
    "y = prediction_labels.count(1)\n",
    "y"
   ]
  },
  {
   "cell_type": "code",
   "execution_count": 31,
   "metadata": {
    "scrolled": true
   },
   "outputs": [
    {
     "data": {
      "image/png": "[encoded data removed]",
      "text/plain": [
       "<Figure size 432x288 with 1 Axes>"
      ]
     },
     "metadata": {},
     "output_type": "display_data"
    }
   ],
   "source": [
    "#Menampilkan hasil analisis sentimen\n",
    "\n",
    "slices = [x, y]\n",
    "activities = ['Negatif','Positfif']\n",
    "cols = ['orange','g']\n",
    "\n",
    "plt.pie(slices,\n",
    "        labels=activities,\n",
    "        colors=cols,\n",
    "        startangle=90,\n",
    "        shadow= True,\n",
    "        explode=(0,0.1),\n",
    "        autopct='%0.2f%%')\n",
    "\n",
    "plt.title('Layanan BPJS RNN')\n",
    "plt.plot\n",
    "plt.savefig(\"static/images/rnn.png\")\n",
    "plt.show()"
   ]
  },
  {
   "cell_type": "code",
   "execution_count": null,
   "metadata": {},
   "outputs": [],
   "source": []
  }
 ],
 "metadata": {
  "kernelspec": {
   "display_name": "Python 3",
   "language": "python",
   "name": "python3"
  },
  "language_info": {
   "codemirror_mode": {
    "name": "ipython",
    "version": 3
   },
   "file_extension": ".py",
   "mimetype": "text/x-python",
   "name": "python",
   "nbconvert_exporter": "python",
   "pygments_lexer": "ipython3",
   "version": "3.6.5"
  }
 },
 "nbformat": 4,
 "nbformat_minor": 2
}
